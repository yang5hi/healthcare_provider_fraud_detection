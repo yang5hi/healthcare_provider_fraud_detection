{
 "cells": [
  {
   "cell_type": "markdown",
   "metadata": {},
   "source": [
    "### Project - Healthcare Fraud Detection"
   ]
  },
  {
   "cell_type": "markdown",
   "metadata": {},
   "source": [
    "<font color='red'><strong>Question:</strong></font> What is the problem you would like to solve? Why is it important?"
   ]
  },
  {
   "cell_type": "markdown",
   "metadata": {},
   "source": [
    "In this project, we propose to use machine learning to automate healthcare fraud detection. \n",
    "\n",
    "The number of healthcare fraud grew in the past few years with covid-19 pandemic. Health care fraud affects businesses as well as individuals. It causes tens of billions of dolloars in losses each year with raising health insurance premiums, expose people to unnecessary medical procedures, and increase taxes. [source](https://www.fbi.gov/scams-and-safety/common-scams-and-crimes/health-care-fraud)"
   ]
  },
  {
   "cell_type": "markdown",
   "metadata": {},
   "source": [
    "<font color='red'><strong>Question:</strong></font> How to measure the business value of your solution? What is the benchmark?"
   ]
  },
  {
   "cell_type": "markdown",
   "metadata": {},
   "source": [
    "Our goal is to quickly screen the claim data and flag the potential fraudulent providers to pass it to the fraud investigation team or inform the beneficiaries. The benchmark could be not flagging any provider, which will result in billion of losses each year."
   ]
  },
  {
   "cell_type": "markdown",
   "metadata": {},
   "source": [
    "<font color='red'><strong>Question:</strong></font> What are the metrics you will use? Why?"
   ]
  },
  {
   "cell_type": "markdown",
   "metadata": {},
   "source": [
    "We can use AUC-ROC for model training. We will use precision and recall to measure our models, keep recall close to 100%, and maximize precision at the same time. If we can't keep recall as 100%, we need to consider the value of claim and calculate the loss."
   ]
  },
  {
   "cell_type": "markdown",
   "metadata": {},
   "source": [
    "<font color='red'><strong>Question:</strong></font> What data do you need? How will you get the data?"
   ]
  },
  {
   "cell_type": "markdown",
   "metadata": {},
   "source": [
    "We will use an existing dataset on [Kaggle](https://www.kaggle.com/datasets/rohitrox/healthcare-provider-fraud-detection-analysis)"
   ]
  },
  {
   "cell_type": "markdown",
   "metadata": {},
   "source": [
    "<font color='red'><strong>Question:</strong></font> What algorithms will you choose for this project? Why?"
   ]
  },
  {
   "cell_type": "markdown",
   "metadata": {},
   "source": [
    "We will use Random Forest as a benchmark algorithm, because it is very stable and able to handle nonlinear relationship between features and target. But eventually, we will use Logistic Regression with created features, because we need to keep the model interpretable to communicate with the fraud investigation team."
   ]
  },
  {
   "cell_type": "markdown",
   "metadata": {},
   "source": [
    "<font color='red'><strong>Question:</strong></font> What will be the input and output?"
   ]
  },
  {
   "cell_type": "markdown",
   "metadata": {},
   "source": [
    "**Features** Claim Dates, Doctor IDs, Patient info (DOB, DOD, Gender, Chronicle Conditions..), Procedure Codes, Diagnosis Codes, Reimbursement Amount, Deductible Amount, Geo Locations, Length of Hospital Stay\n",
    "\n",
    "**Target** y for each provider (0 - Not Potential Fraud, 1 - Potential Fraud)"
   ]
  },
  {
   "cell_type": "markdown",
   "metadata": {},
   "source": [
    "# Modeling Q&A"
   ]
  },
  {
   "cell_type": "markdown",
   "metadata": {},
   "source": [
    "1. Why this project is important? What problem are you trying to solve?\n",
    "\n",
    "\n",
    "#### This project is to detect fraudulent providers in the claims cases. I'm trying to flag the potential fraud provider using binary classification"
   ]
  },
  {
   "cell_type": "markdown",
   "metadata": {},
   "source": [
    "2. How do you measure the model performance (metrics)? What is the benchmark?\n",
    "\n",
    "#### ROC AUC and PR AUC will be used, the confusion metrics will also be exported.\n",
    "\n",
    "#### RandomForestClassifier with minimun feature engineered"
   ]
  },
  {
   "cell_type": "markdown",
   "metadata": {},
   "source": [
    "3. How is your model? Have achieved your goal? How to evaluate the business value of your model?\n",
    "\n",
    "\n",
    "#### the provider_agg model does, the claim_lvl does not give good predictions.\n",
    "\n",
    "#### There is room for improvement"
   ]
  },
  {
   "cell_type": "markdown",
   "metadata": {},
   "source": [
    "4. Any insights have you gotten from your model? Any actionable suggestions can you provide to your business partner?\n",
    "\n",
    "\n",
    "#### geolocations have strong coefficients, there are fraudulent activities come from individuals, higher deductible amouts are always susbicious "
   ]
  },
  {
   "cell_type": "markdown",
   "metadata": {},
   "source": [
    "5. What is the most challenging part in the project? How did you solve it? How will you futher improve your model if you get more resources and time.\n",
    "\n",
    "\n",
    "#### Explain the model with original features is a challenge. The features are all created with aggregation claim level. Get to know what claim and procedure code means, and rank them."
   ]
  },
  {
   "cell_type": "markdown",
   "metadata": {},
   "source": [
    "Make sure that your work includes these parts:\n",
    "1. **Pre-model Analysis**: process and visualize data; get insights of features and target.\n",
    "2. **Problem Definition**: translate the business needs into machine learning problems; design metrics to measure model performance.\n",
    "3. **Feature Engineering**: create features which might improve model performance.\n",
    "4. **Modeling**: Model selection, feature elimination, validation, hyperparameter tuning.\n",
    "5. **Post-model Analysis**: Model performance, feature importance, actionable suggestions to business."
   ]
  }
 ],
 "metadata": {
  "kernelspec": {
   "display_name": "Python 3 (ipykernel)",
   "language": "python",
   "name": "python3"
  },
  "language_info": {
   "codemirror_mode": {
    "name": "ipython",
    "version": 3
   },
   "file_extension": ".py",
   "mimetype": "text/x-python",
   "name": "python",
   "nbconvert_exporter": "python",
   "pygments_lexer": "ipython3",
   "version": "3.10.5"
  }
 },
 "nbformat": 4,
 "nbformat_minor": 2
}

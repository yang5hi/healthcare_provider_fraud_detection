{
 "cells": [
  {
   "cell_type": "markdown",
   "metadata": {},
   "source": [
    "### Project - Healthcare Fraud Detection"
   ]
  },
  {
   "cell_type": "markdown",
   "metadata": {},
   "source": [
    "<font color='red'><strong>Question:</strong></font> What is the problem you would like to solve? Why is it important?"
   ]
  },
  {
   "cell_type": "markdown",
   "metadata": {},
   "source": [
    "In this project, we propose to use machine learning to automate healthcare fraud detection. \n",
    "\n",
    "The number of healthcare fraud grew in the past few years with covid-19 pandemic. Health care fraud affects businesses as well as individuals. It causes tens of billions of dolloars in losses each year with raising health insurance premiums, expose people to unnecessary medical procedures, and increase taxes. [source](https://www.fbi.gov/scams-and-safety/common-scams-and-crimes/health-care-fraud)"
   ]
  },
  {
   "cell_type": "markdown",
   "metadata": {},
   "source": [
    "<font color='red'><strong>Question:</strong></font> How to measure the business value of your solution? What is the benchmark?"
   ]
  },
  {
   "cell_type": "markdown",
   "metadata": {},
   "source": [
    "Our goal is to quickly screen the claim data and flag the potential fraudulent providers to pass it to the fraud investigation team or inform the beneficiaries. The benchmark could be not flagging any provider, which will result in billion of losses each year."
   ]
  },
  {
   "cell_type": "markdown",
   "metadata": {},
   "source": [
    "<font color='red'><strong>Question:</strong></font> What are the metrics you will use? Why?"
   ]
  },
  {
   "cell_type": "markdown",
   "metadata": {},
   "source": [
    "We can use AUC-ROC for model training. We will use precision and recall to measure our models, keep recall close to 100%, and maximize precision at the same time. If we can't keep recall as 100%, we need to consider the value of claim and calculate the loss."
   ]
  },
  {
   "cell_type": "markdown",
   "metadata": {},
   "source": [
    "<font color='red'><strong>Question:</strong></font> What data do you need? How will you get the data?"
   ]
  },
  {
   "cell_type": "markdown",
   "metadata": {},
   "source": [
    "We will use an existing dataset on [Kaggle](https://www.kaggle.com/datasets/rohitrox/healthcare-provider-fraud-detection-analysis)"
   ]
  },
  {
   "cell_type": "markdown",
   "metadata": {},
   "source": [
    "<font color='red'><strong>Question:</strong></font> What algorithms will you choose for this project? Why?"
   ]
  },
  {
   "cell_type": "markdown",
   "metadata": {},
   "source": [
    "We will use Random Forest as a benchmark algorithm, because it is very stable and able to handle nonlinear relationship between features and target. But eventually, we will use Logistic Regression with created features, because we need to keep the model interpretable to communicate with the fraud investigation team."
   ]
  },
  {
   "cell_type": "markdown",
   "metadata": {},
   "source": [
    "<font color='red'><strong>Question:</strong></font> What will be the input and output?"
   ]
  },
  {
   "cell_type": "markdown",
   "metadata": {},
   "source": [
    "**Features** Claim Dates, Doctor IDs, Patient info (DOB, DOD, Gender, Chronicle Conditions..), Procedure Codes, Diagnosis Codes, Reimbursement Amount, Deductible Amount, Geo Locations, Length of Hospital Stay\n",
    "\n",
    "**Target** y for each provider (0 - Not Potential Fraud, 1 - Potential Fraud)"
   ]
  }
 ],
 "metadata": {
  "kernelspec": {
   "display_name": "Python 3 (ipykernel)",
   "language": "python",
   "name": "python3"
  },
  "language_info": {
   "codemirror_mode": {
    "name": "ipython",
    "version": 3
   },
   "file_extension": ".py",
   "mimetype": "text/x-python",
   "name": "python",
   "nbconvert_exporter": "python",
   "pygments_lexer": "ipython3",
   "version": "3.10.5"
  }
 },
 "nbformat": 4,
 "nbformat_minor": 2
}

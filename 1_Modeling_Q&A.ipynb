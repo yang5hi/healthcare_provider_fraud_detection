{
 "cells": [
  {
   "cell_type": "markdown",
   "metadata": {},
   "source": [
    "Build a model based on the data you have scraped. Don't worry if the model is far from perfect. You can always improve later. The most important thing is your story, you can answer the following questions after you finish modeling."
   ]
  },
  {
   "cell_type": "markdown",
   "metadata": {},
   "source": [
    "1. Why this project is important? What problem are you trying to solve?\n",
    "\n",
    "\n",
    "#### This project is to detect fraudulent providers in the claims cases. I'm trying to flag the potential fraud provider using binary classification"
   ]
  },
  {
   "cell_type": "markdown",
   "metadata": {},
   "source": [
    "2. How do you measure the model performance (metrics)? What is the benchmark?\n",
    "\n",
    "#### ROC AUC and PR AUC will be used, the confusion metrics will also be exported.\n",
    "\n",
    "#### RandomForestClassifier with minimun feature engineered"
   ]
  },
  {
   "cell_type": "markdown",
   "metadata": {},
   "source": [
    "3. How is your model? Have achieved your goal? How to evaluate the business value of your model?\n",
    "\n",
    "\n",
    "#### the provider_agg model does, the claim_lvl does not give good predictions.\n",
    "\n",
    "#### There is room for improvement"
   ]
  },
  {
   "cell_type": "markdown",
   "metadata": {},
   "source": [
    "4. Any insights have you gotten from your model? Any actionable suggestions can you provide to your business partner?\n",
    "\n",
    "\n",
    "#### geolocations have strong coefficients, there are fraudulent activities come from individuals, higher deductible amouts are always susbicious "
   ]
  },
  {
   "cell_type": "markdown",
   "metadata": {},
   "source": [
    "5. What is the most challenging part in the project? How did you solve it? How will you futher improve your model if you get more resources and time.\n",
    "\n",
    "\n",
    "#### Explain the model with original features is a challenge. The features are all created with aggregation claim level. Get to know what claim and procedure code means, and rank them."
   ]
  },
  {
   "cell_type": "markdown",
   "metadata": {},
   "source": [
    "Make sure that your work includes these parts:\n",
    "1. **Pre-model Analysis**: process and visualize data; get insights of features and target.\n",
    "2. **Problem Definition**: translate the business needs into machine learning problems; design metrics to measure model performance.\n",
    "3. **Feature Engineering**: create features which might improve model performance.\n",
    "4. **Modeling**: Model selection, feature elimination, validation, hyperparameter tuning.\n",
    "5. **Post-model Analysis**: Model performance, feature importance, actionable suggestions to business."
   ]
  }
 ],
 "metadata": {
  "kernelspec": {
   "display_name": "Python 3 (ipykernel)",
   "language": "python",
   "name": "python3"
  },
  "language_info": {
   "codemirror_mode": {
    "name": "ipython",
    "version": 3
   },
   "file_extension": ".py",
   "mimetype": "text/x-python",
   "name": "python",
   "nbconvert_exporter": "python",
   "pygments_lexer": "ipython3",
   "version": "3.10.5"
  }
 },
 "nbformat": 4,
 "nbformat_minor": 2
}

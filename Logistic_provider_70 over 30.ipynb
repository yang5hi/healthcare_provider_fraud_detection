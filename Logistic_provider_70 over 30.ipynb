{
 "cells": [
  {
   "cell_type": "code",
   "execution_count": 13,
   "id": "6f1687a4",
   "metadata": {},
   "outputs": [],
   "source": [
    "# Import libraries\n",
    "\n",
    "import warnings\n",
    "warnings.filterwarnings(\"ignore\")\n",
    "import pandas as pd\n",
    "import numpy as np\n",
    "import seaborn as sns\n",
    "import matplotlib.pyplot as plt"
   ]
  },
  {
   "cell_type": "code",
   "execution_count": 23,
   "id": "d4058813",
   "metadata": {},
   "outputs": [],
   "source": [
    "X_train_raw= pd.read_csv('/Users/cuicuisong/Desktop/data/X_train_aggregated.csv',  index_col=0)\n",
    "X_test_raw= pd.read_csv('/Users/cuicuisong/Desktop/data/X_test_aggregated.csv',  index_col=0)\n",
    "y_train_raw= pd.read_csv('/Users/cuicuisong/Desktop/data/y_train_agg.csv')\n",
    "y_test_raw= pd.read_csv('/Users/cuicuisong/Desktop/data//y_test_agg.csv')"
   ]
  },
  {
   "cell_type": "code",
   "execution_count": 25,
   "id": "a4f2a7dd",
   "metadata": {},
   "outputs": [
    {
     "data": {
      "text/plain": [
       "(4328, 54)"
      ]
     },
     "execution_count": 25,
     "metadata": {},
     "output_type": "execute_result"
    }
   ],
   "source": [
    "X_train_raw.shape"
   ]
  },
  {
   "cell_type": "code",
   "execution_count": 35,
   "id": "00dd42ee",
   "metadata": {},
   "outputs": [],
   "source": [
    "# append train and test\n",
    "X = X_train_raw.append(X_test_raw, ignore_index=True)\n",
    "y = y_train_raw.append(y_test_raw, ignore_index=True)"
   ]
  },
  {
   "cell_type": "code",
   "execution_count": 40,
   "id": "dacd242b",
   "metadata": {},
   "outputs": [],
   "source": [
    "X.fillna(0,inplace=True)"
   ]
  },
  {
   "cell_type": "code",
   "execution_count": 36,
   "id": "49b6474a",
   "metadata": {},
   "outputs": [
    {
     "data": {
      "text/plain": [
       "(5410, 54)"
      ]
     },
     "execution_count": 36,
     "metadata": {},
     "output_type": "execute_result"
    }
   ],
   "source": [
    "X.shape"
   ]
  },
  {
   "cell_type": "code",
   "execution_count": 37,
   "id": "7bb9d3aa",
   "metadata": {},
   "outputs": [
    {
     "data": {
      "text/plain": [
       "(5410, 1)"
      ]
     },
     "execution_count": 37,
     "metadata": {},
     "output_type": "execute_result"
    }
   ],
   "source": [
    "y.shape"
   ]
  },
  {
   "cell_type": "code",
   "execution_count": 41,
   "id": "72425e0b",
   "metadata": {},
   "outputs": [],
   "source": [
    "from sklearn.model_selection import train_test_split\n",
    "X_train, X_test, y_train, y_test = train_test_split(X, y, test_size = 0.30, random_state = 99)\n"
   ]
  },
  {
   "cell_type": "code",
   "execution_count": 42,
   "id": "fa8014d5",
   "metadata": {},
   "outputs": [
    {
     "data": {
      "text/plain": [
       "(3787, 54)"
      ]
     },
     "execution_count": 42,
     "metadata": {},
     "output_type": "execute_result"
    }
   ],
   "source": [
    "X_train.shape"
   ]
  },
  {
   "cell_type": "code",
   "execution_count": 43,
   "id": "d9f7e599",
   "metadata": {},
   "outputs": [
    {
     "data": {
      "text/plain": [
       "(3787, 1)"
      ]
     },
     "execution_count": 43,
     "metadata": {},
     "output_type": "execute_result"
    }
   ],
   "source": [
    "y_train.shape"
   ]
  },
  {
   "cell_type": "code",
   "execution_count": 44,
   "id": "37752030",
   "metadata": {},
   "outputs": [
    {
     "data": {
      "text/plain": [
       "(1623, 54)"
      ]
     },
     "execution_count": 44,
     "metadata": {},
     "output_type": "execute_result"
    }
   ],
   "source": [
    "X_test.shape"
   ]
  },
  {
   "cell_type": "code",
   "execution_count": 45,
   "id": "fe020f2a",
   "metadata": {},
   "outputs": [],
   "source": [
    "from sklearn.pipeline import Pipeline\n",
    "from sklearn.linear_model import LogisticRegression\n",
    "from sklearn.preprocessing import MinMaxScaler\n",
    "from sklearn.preprocessing import StandardScaler"
   ]
  },
  {
   "cell_type": "code",
   "execution_count": 46,
   "id": "cacb3c23",
   "metadata": {},
   "outputs": [],
   "source": [
    "# use MinMaxScaler and LogisticRegression to build a classification pipeline.\n",
    "steps = [# ('rescale', MinMaxScaler()),\n",
    "         ('logr', LogisticRegression())]\n",
    "model = Pipeline(steps)\n",
    "model = model.fit(X_train, y_train)"
   ]
  },
  {
   "cell_type": "code",
   "execution_count": 48,
   "id": "90246a87",
   "metadata": {},
   "outputs": [],
   "source": [
    "y_train_pred = model.predict(X_train)\n",
    "y_test_pred = model.predict(X_test)"
   ]
  },
  {
   "cell_type": "code",
   "execution_count": 50,
   "id": "7c87334f",
   "metadata": {},
   "outputs": [],
   "source": [
    "from sklearn.metrics import accuracy_score,precision_score,recall_score, f1_score\n",
    "from sklearn.metrics import classification_report\n",
    "from sklearn.metrics import confusion_matrix"
   ]
  },
  {
   "cell_type": "code",
   "execution_count": 52,
   "id": "0d94fc04",
   "metadata": {},
   "outputs": [
    {
     "name": "stdout",
     "output_type": "stream",
     "text": [
      "Training Accuracy Score: 0.929\n",
      "Testinging Accuracy Score: 0.935\n"
     ]
    }
   ],
   "source": [
    "# Calculate the training and testing accuracy scores.\n",
    "print('Training Accuracy Score: {0:.3f}'.format(accuracy_score(y_train, y_train_pred)))\n",
    "print('Testinging Accuracy Score: {0:.3f}'.format(accuracy_score(y_test, y_test_pred)))\n",
    "\n",
    "# a little lower than 80/20 ratio: 0.939, 0.938"
   ]
  },
  {
   "cell_type": "code",
   "execution_count": 54,
   "id": "b88204c2",
   "metadata": {},
   "outputs": [
    {
     "name": "stdout",
     "output_type": "stream",
     "text": [
      "              precision    recall  f1-score   support\n",
      "\n",
      "           0       0.94      0.98      0.96      3423\n",
      "           1       0.70      0.46      0.56       364\n",
      "\n",
      "    accuracy                           0.93      3787\n",
      "   macro avg       0.82      0.72      0.76      3787\n",
      "weighted avg       0.92      0.93      0.92      3787\n",
      "\n",
      "              precision    recall  f1-score   support\n",
      "\n",
      "           0       0.95      0.98      0.97      1481\n",
      "           1       0.69      0.46      0.56       142\n",
      "\n",
      "    accuracy                           0.94      1623\n",
      "   macro avg       0.82      0.72      0.76      1623\n",
      "weighted avg       0.93      0.94      0.93      1623\n",
      "\n"
     ]
    }
   ],
   "source": [
    "# Calculate the precision, recall, and f1 scores. You can use classification report.\n",
    "\n",
    "print(classification_report(y_train, y_train_pred))\n",
    "print(classification_report(y_test, y_test_pred))\n",
    "\n",
    "# a little lower than 80/20 ratio"
   ]
  },
  {
   "cell_type": "code",
   "execution_count": 55,
   "id": "709bb8ee",
   "metadata": {},
   "outputs": [
    {
     "name": "stdout",
     "output_type": "stream",
     "text": [
      "[[3350   73]\n",
      " [ 196  168]]\n",
      "-------------\n",
      "[[1452   29]\n",
      " [  76   66]]\n"
     ]
    }
   ],
   "source": [
    "# Get the confusion matrix\n",
    "print(confusion_matrix(y_train, y_train_pred))\n",
    "print(\"-------------\")\n",
    "print(confusion_matrix(y_test, y_test_pred))"
   ]
  },
  {
   "cell_type": "markdown",
   "id": "f4244a23",
   "metadata": {},
   "source": [
    "### Feature Importance"
   ]
  },
  {
   "cell_type": "code",
   "execution_count": 62,
   "id": "590183a1",
   "metadata": {},
   "outputs": [
    {
     "name": "stdout",
     "output_type": "stream",
     "text": [
      "Feature: 0, Score: -0.02669\n",
      "Feature: 1, Score: -0.05665\n",
      "Feature: 2, Score: 0.01445\n",
      "Feature: 3, Score: -0.11017\n",
      "Feature: 4, Score: 0.05524\n",
      "Feature: 5, Score: -0.02704\n",
      "Feature: 6, Score: -0.03860\n",
      "Feature: 7, Score: -0.02802\n",
      "Feature: 8, Score: -0.06474\n",
      "Feature: 9, Score: 0.01065\n",
      "Feature: 10, Score: -0.06389\n",
      "Feature: 11, Score: -0.01373\n",
      "Feature: 12, Score: -0.11990\n",
      "Feature: 13, Score: -0.00184\n",
      "Feature: 14, Score: -0.11663\n",
      "Feature: 15, Score: 0.01227\n",
      "Feature: 16, Score: 0.12011\n",
      "Feature: 17, Score: -0.02852\n",
      "Feature: 18, Score: 0.34203\n",
      "Feature: 19, Score: -0.22861\n",
      "Feature: 20, Score: -0.08473\n",
      "Feature: 21, Score: 2.56137\n",
      "Feature: 22, Score: 1.53903\n",
      "Feature: 23, Score: 0.07502\n",
      "Feature: 24, Score: -0.03451\n",
      "Feature: 25, Score: 0.11648\n",
      "Feature: 26, Score: -0.03344\n",
      "Feature: 27, Score: -0.00828\n",
      "Feature: 28, Score: -0.08341\n",
      "Feature: 29, Score: 0.08564\n",
      "Feature: 30, Score: -0.08871\n",
      "Feature: 31, Score: 0.08633\n",
      "Feature: 32, Score: -0.00857\n",
      "Feature: 33, Score: 0.03609\n",
      "Feature: 34, Score: -0.00841\n",
      "Feature: 35, Score: -0.04798\n",
      "Feature: 36, Score: 0.09151\n",
      "Feature: 37, Score: 0.11128\n",
      "Feature: 38, Score: 0.00297\n",
      "Feature: 39, Score: -0.05619\n",
      "Feature: 40, Score: 0.03128\n",
      "Feature: 41, Score: 0.04536\n",
      "Feature: 42, Score: 0.00158\n",
      "Feature: 43, Score: -0.08428\n",
      "Feature: 44, Score: 0.08879\n",
      "Feature: 45, Score: -0.36788\n",
      "Feature: 46, Score: -0.07719\n",
      "Feature: 47, Score: 0.02197\n",
      "Feature: 48, Score: 3.14710\n",
      "Feature: 49, Score: -0.08643\n",
      "Feature: 50, Score: 0.13734\n",
      "Feature: 51, Score: -0.09233\n",
      "Feature: 52, Score: 0.06192\n",
      "Feature: 53, Score: 0.00160\n"
     ]
    },
    {
     "data": {
      "image/png": "[encoded data removed]",
      "text/plain": [
       "<Figure size 432x288 with 1 Axes>"
      ]
     },
     "metadata": {
      "needs_background": "light"
     },
     "output_type": "display_data"
    }
   ],
   "source": [
    "# Note: https://pythonguides.com/scikit-learn-logistic-regression/\n",
    "\n",
    "from sklearn.datasets import make_classification\n",
    "from sklearn.linear_model import LogisticRegression\n",
    "from matplotlib import pyplot\n",
    "\n",
    "X_train, y_train = make_classification(n_samples=5410, n_features=54,  random_state=1)\n",
    "\n",
    "model_feature = LogisticRegression()\n",
    "\n",
    "model_feature = model_feature.fit(X_train, y_train)\n",
    "importance = model_feature.coef_[0]\n",
    "\n",
    "for i,j in enumerate(importance):\n",
    "\tprint('Feature: %0d, Score: %.5f' % (i,j))\n",
    "\n",
    "pyplot.bar([X for X in range(len(importance))], importance)\n",
    "pyplot.show()\n",
    "\n",
    "# Feature: 21, Score: 2.561376, same as 80/20 ratio\n",
    "# Feature: 22, Score: 1.53903, same as 80/20 ratio\n"
   ]
  },
  {
   "cell_type": "markdown",
   "id": "42180c8e",
   "metadata": {},
   "source": [
    "#### II. Prediction with balanced class weights: may not need this part, because our data is balanced?"
   ]
  },
  {
   "cell_type": "markdown",
   "id": "815b57c1",
   "metadata": {},
   "source": [
    "##### 2.1 Set class_weight in Logistic Regression and retrain the model."
   ]
  },
  {
   "cell_type": "code",
   "execution_count": 63,
   "id": "1b4a23df",
   "metadata": {},
   "outputs": [],
   "source": [
    "steps = [#('rescale', MinMaxScaler()),\n",
    "         ('logr', LogisticRegression(class_weight = 'balanced'))]\n",
    "model_balanced = Pipeline(steps)\n",
    "model_balanced = model.fit(X_train, y_train)"
   ]
  },
  {
   "cell_type": "code",
   "execution_count": 64,
   "id": "e7627d6f",
   "metadata": {},
   "outputs": [],
   "source": [
    "y_train_pred_balanced = model_balanced.predict(X_train)\n",
    "y_test_pred_balanced = model_balanced.predict(X_test)"
   ]
  },
  {
   "cell_type": "code",
   "execution_count": 66,
   "id": "bd2840d8",
   "metadata": {},
   "outputs": [
    {
     "name": "stdout",
     "output_type": "stream",
     "text": [
      "Training Accuracy Score: 0.966\n",
      "Testinging Accuracy Score: 0.129\n"
     ]
    }
   ],
   "source": [
    "# Re-calcualte all the above metrics and confusion matrix.\n",
    "# training/testing Accuracy scores\n",
    "print('Training Accuracy Score: {0:.3f}'.format(accuracy_score(y_train, y_train_pred_balanced)))\n",
    "print('Testinging Accuracy Score: {0:.3f}'.format(accuracy_score(y_test, y_test_pred_balanced)))\n",
    "\n",
    "# notes: different from non-balanced model, test accuray is much lower."
   ]
  },
  {
   "cell_type": "code",
   "execution_count": 68,
   "id": "fa188823",
   "metadata": {},
   "outputs": [
    {
     "name": "stdout",
     "output_type": "stream",
     "text": [
      "              precision    recall  f1-score   support\n",
      "\n",
      "           0       0.97      0.96      0.97      2711\n",
      "           1       0.96      0.97      0.97      2699\n",
      "\n",
      "    accuracy                           0.97      5410\n",
      "   macro avg       0.97      0.97      0.97      5410\n",
      "weighted avg       0.97      0.97      0.97      5410\n",
      "\n",
      "              precision    recall  f1-score   support\n",
      "\n",
      "           0       0.79      0.06      0.11      1481\n",
      "           1       0.08      0.83      0.14       142\n",
      "\n",
      "    accuracy                           0.13      1623\n",
      "   macro avg       0.43      0.45      0.13      1623\n",
      "weighted avg       0.73      0.13      0.12      1623\n",
      "\n"
     ]
    }
   ],
   "source": [
    "print(classification_report(y_train, y_train_pred_balanced))\n",
    "print(classification_report(y_test, y_test_pred_balanced))\n",
    "\n",
    "# notes:  different from non-balanced model"
   ]
  },
  {
   "cell_type": "code",
   "execution_count": 70,
   "id": "cb99bf89",
   "metadata": {},
   "outputs": [
    {
     "name": "stdout",
     "output_type": "stream",
     "text": [
      "[[2599  112]\n",
      " [  70 2629]]\n",
      "-------------\n",
      "[[  91 1390]\n",
      " [  24  118]]\n"
     ]
    }
   ],
   "source": [
    "print(confusion_matrix(y_train, y_train_pred_balanced))\n",
    "print(\"-------------\")\n",
    "print(confusion_matrix(y_test, y_test_pred_balanced))\n",
    "\n",
    "# different from non-balanced model"
   ]
  },
  {
   "cell_type": "markdown",
   "id": "ee40d4d3",
   "metadata": {},
   "source": [
    "### III. Use the predict_proba function of the model to make predictions for the training and testing sets"
   ]
  },
  {
   "cell_type": "code",
   "execution_count": 74,
   "id": "9d25c08b",
   "metadata": {},
   "outputs": [],
   "source": [
    "steps = [#('rescale', MinMaxScaler()),\n",
    "         ('logr', LogisticRegression(class_weight = 'balanced'))]\n",
    "model_balanced = Pipeline(steps)\n",
    "model_balanced = model.fit(X_train, y_train)\n",
    "y_train_pred_balanced = model_balanced.predict(X_train)\n",
    "y_test_pred_balanced = model_balanced.predict(X_test)"
   ]
  },
  {
   "cell_type": "code",
   "execution_count": 96,
   "id": "9f739978",
   "metadata": {},
   "outputs": [],
   "source": [
    "y_train_proba = model_balanced.predict_proba(X_train)\n",
    "\n",
    "# Linda: (train_raw), so we should use X_train+y_train ????"
   ]
  },
  {
   "cell_type": "code",
   "execution_count": 97,
   "id": "eeb4cab2",
   "metadata": {},
   "outputs": [
    {
     "data": {
      "text/plain": [
       "(5410, 2)"
      ]
     },
     "execution_count": 97,
     "metadata": {},
     "output_type": "execute_result"
    }
   ],
   "source": [
    "y_train_proba.shape\n",
    "# why is 5410 ???????"
   ]
  },
  {
   "cell_type": "code",
   "execution_count": null,
   "id": "3921f99e",
   "metadata": {},
   "outputs": [],
   "source": [
    "y_test_proba = model_balanced.predict_proba(X_test)"
   ]
  },
  {
   "cell_type": "code",
   "execution_count": 73,
   "id": "f523bc0e",
   "metadata": {},
   "outputs": [
    {
     "data": {
      "text/plain": [
       "(1623, 2)"
      ]
     },
     "execution_count": 73,
     "metadata": {},
     "output_type": "execute_result"
    }
   ],
   "source": [
    "y_test_proba.shape"
   ]
  },
  {
   "cell_type": "code",
   "execution_count": 77,
   "id": "f769087e",
   "metadata": {},
   "outputs": [
    {
     "data": {
      "text/plain": [
       "array([[0.00000000e+00, 1.00000000e+00],\n",
       "       [0.00000000e+00, 1.00000000e+00],\n",
       "       [3.76377712e-02, 9.62362229e-01],\n",
       "       ...,\n",
       "       [1.00000000e+00, 1.45436441e-83],\n",
       "       [0.00000000e+00, 1.00000000e+00],\n",
       "       [0.00000000e+00, 1.00000000e+00]])"
      ]
     },
     "execution_count": 77,
     "metadata": {},
     "output_type": "execute_result"
    }
   ],
   "source": [
    "y_test_proba\n",
    "\n",
    "# The output from predict is the values of 0 or 1 while the output of predict_prob has two columns: the first column is the probability of predicting 0, the second column is the probability of predicting 1.\n",
    "# In this case, we should care about the second column, probability of 1."
   ]
  },
  {
   "cell_type": "code",
   "execution_count": 78,
   "id": "966c4703",
   "metadata": {},
   "outputs": [
    {
     "name": "stdout",
     "output_type": "stream",
     "text": [
      "The range of y_train_proba is: ( 3.0065376273151777e-10 , 0.99999459007037 )\n",
      "The range of y_train_proba is: ( 0.0 , 1.0 )\n"
     ]
    }
   ],
   "source": [
    "# What is the range of the values in y_train_proba and y_test_proba? What do the values mean?\n",
    "print('The range of y_train_proba is: (', np.min(y_train_proba[:,1]), ',', np.max(y_train_proba[:,1]), ')')\n",
    "print('The range of y_train_proba is: (', np.min(y_test_proba[:,1]), ',', np.max(y_test_proba[:,1]), ')')"
   ]
  },
  {
   "cell_type": "markdown",
   "id": "36a24ea1",
   "metadata": {},
   "source": [
    "#### 3.2 Threshold"
   ]
  },
  {
   "cell_type": "code",
   "execution_count": 79,
   "id": "48434b0d",
   "metadata": {},
   "outputs": [
    {
     "data": {
      "text/plain": [
       "<matplotlib.legend.Legend at 0x7f9e9fcd4730>"
      ]
     },
     "execution_count": 79,
     "metadata": {},
     "output_type": "execute_result"
    },
    {
     "data": {
      "image/png": "[encoded data removed]",
      "text/plain": [
       "<Figure size 432x288 with 1 Axes>"
      ]
     },
     "metadata": {
      "needs_background": "light"
     },
     "output_type": "display_data"
    }
   ],
   "source": [
    "# Plot metrics scores v.s. threshold - Linda\n",
    "\n",
    "thresholds = np.linspace(0, 1, 10)\n",
    "precisions = []\n",
    "recalls = []\n",
    "f1s = []\n",
    "ave = \"binary\"\n",
    "\n",
    "for cut in thresholds:\n",
    "    y_test_pred_new = (y_test_proba[:, 1] > cut).astype(int)\n",
    "    precisions.append(precision_score(y_test, y_test_pred_new, average=ave))\n",
    "    recalls.append(recall_score(y_test, y_test_pred_new, average=ave))\n",
    "    f1s.append(f1_score(y_test, y_test_pred_new, average=ave))\n",
    "\n",
    "plt.plot(thresholds, precisions, color=\"red\", label=\"precision\")\n",
    "plt.plot(thresholds, recalls, color=\"blue\", label=\"recall\")\n",
    "plt.plot(thresholds, f1s, color=\"black\", label=\"f1\")\n",
    "plt.xlabel(\"Threshold\")\n",
    "plt.ylabel(\"Score\")\n",
    "plt.legend(loc=\"best\")\n",
    "\n",
    "\n",
    "##### ????????"
   ]
  },
  {
   "cell_type": "markdown",
   "id": "aae94da0",
   "metadata": {},
   "source": [
    "#### 3.3 ROC AUC"
   ]
  },
  {
   "cell_type": "code",
   "execution_count": 82,
   "id": "cf9c615e",
   "metadata": {},
   "outputs": [
    {
     "data": {
      "text/plain": [
       "0.9910789807118747"
      ]
     },
     "execution_count": 82,
     "metadata": {},
     "output_type": "execute_result"
    }
   ],
   "source": [
    "from sklearn.metrics import roc_auc_score\n",
    "\n",
    "roc_auc_score(y_train, y_train_proba[:, 1])\n",
    "\n",
    "# bigger than 80/20 ratio"
   ]
  },
  {
   "cell_type": "code",
   "execution_count": 84,
   "id": "26deb557",
   "metadata": {},
   "outputs": [
    {
     "data": {
      "text/plain": [
       "0.4458825878974047"
      ]
     },
     "execution_count": 84,
     "metadata": {},
     "output_type": "execute_result"
    }
   ],
   "source": [
    "roc_auc_score(y_test, y_test_proba[:, 1])\n",
    "# much smaller  than 80/20 ratio"
   ]
  },
  {
   "cell_type": "markdown",
   "id": "d289642b",
   "metadata": {},
   "source": [
    "#### Plot the ROC curve of test scores, use the roc_curve module in sklearn to obtain relevant data."
   ]
  },
  {
   "cell_type": "code",
   "execution_count": 89,
   "id": "85e79dd8",
   "metadata": {},
   "outputs": [],
   "source": [
    "from sklearn import metrics\n",
    "\n",
    "fpr, tpr, threshold = metrics.roc_curve(y_test, y_test_proba[:, 1])"
   ]
  },
  {
   "cell_type": "code",
   "execution_count": 88,
   "id": "7c091296",
   "metadata": {},
   "outputs": [
    {
     "data": {
      "text/plain": [
       "Text(0, 0.5, 'true positive rate')"
      ]
     },
     "execution_count": 88,
     "metadata": {},
     "output_type": "execute_result"
    },
    {
     "data": {
      "image/png": "[encoded data removed]",
      "text/plain": [
       "<Figure size 432x288 with 1 Axes>"
      ]
     },
     "metadata": {
      "needs_background": "light"
     },
     "output_type": "display_data"
    }
   ],
   "source": [
    "plt.plot(fpr,tpr)\n",
    "plt.xlabel('false positive rate')\n",
    "plt.ylabel('true positive rate')\n",
    "# The x axes is the false positive rate (recall or sensitivity) and the y axes is the true positive rate."
   ]
  },
  {
   "cell_type": "markdown",
   "id": "ba3b8f5c",
   "metadata": {},
   "source": [
    "#### 3.4 Log Loss"
   ]
  },
  {
   "cell_type": "code",
   "execution_count": 90,
   "id": "9d1c2a15",
   "metadata": {},
   "outputs": [
    {
     "data": {
      "text/plain": [
       "0.10541583348626941"
      ]
     },
     "execution_count": 90,
     "metadata": {},
     "output_type": "execute_result"
    }
   ],
   "source": [
    "from sklearn.metrics import log_loss\n",
    "log_loss(y_train, y_train_proba)"
   ]
  },
  {
   "cell_type": "code",
   "execution_count": 91,
   "id": "64e2b6cb",
   "metadata": {},
   "outputs": [
    {
     "data": {
      "text/plain": [
       "29.98803913747246"
      ]
     },
     "execution_count": 91,
     "metadata": {},
     "output_type": "execute_result"
    }
   ],
   "source": [
    "log_loss(y_test, y_test_proba)"
   ]
  },
  {
   "cell_type": "code",
   "execution_count": null,
   "id": "260dc7e2",
   "metadata": {},
   "outputs": [],
   "source": []
  },
  {
   "cell_type": "code",
   "execution_count": null,
   "id": "90c294d0",
   "metadata": {},
   "outputs": [],
   "source": []
  }
 ],
 "metadata": {
  "kernelspec": {
   "display_name": "Python 3 (ipykernel)",
   "language": "python",
   "name": "python3"
  },
  "language_info": {
   "codemirror_mode": {
    "name": "ipython",
    "version": 3
   },
   "file_extension": ".py",
   "mimetype": "text/x-python",
   "name": "python",
   "nbconvert_exporter": "python",
   "pygments_lexer": "ipython3",
   "version": "3.9.7"
  }
 },
 "nbformat": 4,
 "nbformat_minor": 5
}

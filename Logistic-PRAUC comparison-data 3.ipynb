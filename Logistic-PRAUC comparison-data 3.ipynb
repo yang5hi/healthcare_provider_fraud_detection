{
 "cells": [
  {
   "cell_type": "code",
   "execution_count": 82,
   "id": "b755c702",
   "metadata": {},
   "outputs": [],
   "source": [
    "# Import libraries\n",
    "\n",
    "import warnings\n",
    "warnings.filterwarnings(\"ignore\")\n",
    "import pandas as pd\n",
    "import numpy as np\n",
    "import seaborn as sns\n",
    "import matplotlib.pyplot as plt\n",
    "\n",
    "\n",
    "from sklearn.pipeline import Pipeline\n",
    "from sklearn.linear_model import LogisticRegression\n",
    "from sklearn.preprocessing import MinMaxScaler\n",
    "from sklearn.preprocessing import StandardScaler"
   ]
  },
  {
   "cell_type": "code",
   "execution_count": 83,
   "id": "a770c875",
   "metadata": {},
   "outputs": [],
   "source": [
    "# Import Data\n",
    "X_train= pd.read_csv('/Users/cuicuisong/Desktop/data/train_all_feature.csv',  index_col=0)\n",
    "X_test= pd.read_csv('/Users/cuicuisong/Desktop/data/test_all_feature.csv',  index_col=0)\n",
    "y_train= pd.read_csv('/Users/cuicuisong/Desktop/data/y_train_new.csv')\n",
    "y_test= pd.read_csv('/Users/cuicuisong/Desktop/data/y_test_new.csv')"
   ]
  },
  {
   "cell_type": "code",
   "execution_count": 86,
   "id": "f1e27e33",
   "metadata": {},
   "outputs": [
    {
     "name": "stdout",
     "output_type": "stream",
     "text": [
      "0    979\n",
      "1    103\n",
      "Name: PotentialFraud, dtype: int64\n"
     ]
    }
   ],
   "source": [
    "print(y_test['PotentialFraud'].value_counts())"
   ]
  },
  {
   "cell_type": "code",
   "execution_count": 3,
   "id": "0bc8f5e6",
   "metadata": {},
   "outputs": [
    {
     "data": {
      "text/html": [
       "<div>\n",
       "<style scoped>\n",
       "    .dataframe tbody tr th:only-of-type {\n",
       "        vertical-align: middle;\n",
       "    }\n",
       "\n",
       "    .dataframe tbody tr th {\n",
       "        vertical-align: top;\n",
       "    }\n",
       "\n",
       "    .dataframe thead th {\n",
       "        text-align: right;\n",
       "    }\n",
       "</style>\n",
       "<table border=\"1\" class=\"dataframe\">\n",
       "  <thead>\n",
       "    <tr style=\"text-align: right;\">\n",
       "      <th></th>\n",
       "      <th>DeductibleAmtPaid_mean</th>\n",
       "      <th>DeductibleAmtPaid_max</th>\n",
       "      <th>NoOfMonths_PartACov_mean</th>\n",
       "      <th>NoOfMonths_PartBCov_mean</th>\n",
       "      <th>OPAnnualReimbursementAmt_mean</th>\n",
       "      <th>OPAnnualReimbursementAmt_max</th>\n",
       "      <th>OPAnnualReimbursementAmt_sum</th>\n",
       "      <th>OPAnnualDeductibleAmt_mean</th>\n",
       "      <th>OPAnnualDeductibleAmt_max</th>\n",
       "      <th>OPAnnualDeductibleAmt_sum</th>\n",
       "      <th>...</th>\n",
       "      <th>totalProcCode_3722</th>\n",
       "      <th>totalProcCode_8151</th>\n",
       "      <th>totalProcCode_8872</th>\n",
       "      <th>totalProcCode_9671</th>\n",
       "      <th>totalProcCode_4513</th>\n",
       "      <th>totalProcCode_5849</th>\n",
       "      <th>totalProcCode_9390</th>\n",
       "      <th>totalProcCode_Other</th>\n",
       "      <th>TotalTeDiagCode</th>\n",
       "      <th>TotalTeProcCode</th>\n",
       "    </tr>\n",
       "    <tr>\n",
       "      <th>Provider</th>\n",
       "      <th></th>\n",
       "      <th></th>\n",
       "      <th></th>\n",
       "      <th></th>\n",
       "      <th></th>\n",
       "      <th></th>\n",
       "      <th></th>\n",
       "      <th></th>\n",
       "      <th></th>\n",
       "      <th></th>\n",
       "      <th></th>\n",
       "      <th></th>\n",
       "      <th></th>\n",
       "      <th></th>\n",
       "      <th></th>\n",
       "      <th></th>\n",
       "      <th></th>\n",
       "      <th></th>\n",
       "      <th></th>\n",
       "      <th></th>\n",
       "      <th></th>\n",
       "    </tr>\n",
       "  </thead>\n",
       "  <tbody>\n",
       "    <tr>\n",
       "      <th>PRV51001</th>\n",
       "      <td>213.600000</td>\n",
       "      <td>1068.0</td>\n",
       "      <td>12.000000</td>\n",
       "      <td>12.000000</td>\n",
       "      <td>2615.200000</td>\n",
       "      <td>13460</td>\n",
       "      <td>65380</td>\n",
       "      <td>463.920000</td>\n",
       "      <td>2700</td>\n",
       "      <td>11598</td>\n",
       "      <td>...</td>\n",
       "      <td>0</td>\n",
       "      <td>0</td>\n",
       "      <td>0</td>\n",
       "      <td>0</td>\n",
       "      <td>0</td>\n",
       "      <td>0</td>\n",
       "      <td>0</td>\n",
       "      <td>125</td>\n",
       "      <td>1.166158</td>\n",
       "      <td>1.186518</td>\n",
       "    </tr>\n",
       "    <tr>\n",
       "      <th>PRV51004</th>\n",
       "      <td>2.080537</td>\n",
       "      <td>100.0</td>\n",
       "      <td>11.865772</td>\n",
       "      <td>11.959732</td>\n",
       "      <td>2194.899329</td>\n",
       "      <td>20900</td>\n",
       "      <td>327040</td>\n",
       "      <td>622.751678</td>\n",
       "      <td>7410</td>\n",
       "      <td>92790</td>\n",
       "      <td>...</td>\n",
       "      <td>0</td>\n",
       "      <td>0</td>\n",
       "      <td>0</td>\n",
       "      <td>0</td>\n",
       "      <td>0</td>\n",
       "      <td>0</td>\n",
       "      <td>0</td>\n",
       "      <td>745</td>\n",
       "      <td>1.144495</td>\n",
       "      <td>1.161067</td>\n",
       "    </tr>\n",
       "    <tr>\n",
       "      <th>PRV51005</th>\n",
       "      <td>3.175966</td>\n",
       "      <td>200.0</td>\n",
       "      <td>11.907296</td>\n",
       "      <td>11.939914</td>\n",
       "      <td>2109.733906</td>\n",
       "      <td>97510</td>\n",
       "      <td>2457840</td>\n",
       "      <td>636.328755</td>\n",
       "      <td>6330</td>\n",
       "      <td>741323</td>\n",
       "      <td>...</td>\n",
       "      <td>0</td>\n",
       "      <td>0</td>\n",
       "      <td>0</td>\n",
       "      <td>0</td>\n",
       "      <td>0</td>\n",
       "      <td>0</td>\n",
       "      <td>0</td>\n",
       "      <td>5825</td>\n",
       "      <td>1.174065</td>\n",
       "      <td>1.161067</td>\n",
       "    </tr>\n",
       "    <tr>\n",
       "      <th>PRV51008</th>\n",
       "      <td>53.860465</td>\n",
       "      <td>1068.0</td>\n",
       "      <td>12.000000</td>\n",
       "      <td>12.000000</td>\n",
       "      <td>2570.465116</td>\n",
       "      <td>20500</td>\n",
       "      <td>110530</td>\n",
       "      <td>616.046512</td>\n",
       "      <td>4140</td>\n",
       "      <td>26490</td>\n",
       "      <td>...</td>\n",
       "      <td>0</td>\n",
       "      <td>0</td>\n",
       "      <td>0</td>\n",
       "      <td>0</td>\n",
       "      <td>0</td>\n",
       "      <td>0</td>\n",
       "      <td>0</td>\n",
       "      <td>215</td>\n",
       "      <td>1.144524</td>\n",
       "      <td>1.163394</td>\n",
       "    </tr>\n",
       "    <tr>\n",
       "      <th>PRV51011</th>\n",
       "      <td>23.586207</td>\n",
       "      <td>1068.0</td>\n",
       "      <td>12.000000</td>\n",
       "      <td>12.000000</td>\n",
       "      <td>1399.310345</td>\n",
       "      <td>6340</td>\n",
       "      <td>81160</td>\n",
       "      <td>366.724138</td>\n",
       "      <td>1070</td>\n",
       "      <td>21270</td>\n",
       "      <td>...</td>\n",
       "      <td>0</td>\n",
       "      <td>0</td>\n",
       "      <td>0</td>\n",
       "      <td>0</td>\n",
       "      <td>0</td>\n",
       "      <td>0</td>\n",
       "      <td>0</td>\n",
       "      <td>290</td>\n",
       "      <td>1.141459</td>\n",
       "      <td>1.161067</td>\n",
       "    </tr>\n",
       "  </tbody>\n",
       "</table>\n",
       "<p>5 rows × 104 columns</p>\n",
       "</div>"
      ],
      "text/plain": [
       "          DeductibleAmtPaid_mean  DeductibleAmtPaid_max  \\\n",
       "Provider                                                  \n",
       "PRV51001              213.600000                 1068.0   \n",
       "PRV51004                2.080537                  100.0   \n",
       "PRV51005                3.175966                  200.0   \n",
       "PRV51008               53.860465                 1068.0   \n",
       "PRV51011               23.586207                 1068.0   \n",
       "\n",
       "          NoOfMonths_PartACov_mean  NoOfMonths_PartBCov_mean  \\\n",
       "Provider                                                       \n",
       "PRV51001                 12.000000                 12.000000   \n",
       "PRV51004                 11.865772                 11.959732   \n",
       "PRV51005                 11.907296                 11.939914   \n",
       "PRV51008                 12.000000                 12.000000   \n",
       "PRV51011                 12.000000                 12.000000   \n",
       "\n",
       "          OPAnnualReimbursementAmt_mean  OPAnnualReimbursementAmt_max  \\\n",
       "Provider                                                                \n",
       "PRV51001                    2615.200000                         13460   \n",
       "PRV51004                    2194.899329                         20900   \n",
       "PRV51005                    2109.733906                         97510   \n",
       "PRV51008                    2570.465116                         20500   \n",
       "PRV51011                    1399.310345                          6340   \n",
       "\n",
       "          OPAnnualReimbursementAmt_sum  OPAnnualDeductibleAmt_mean  \\\n",
       "Provider                                                             \n",
       "PRV51001                         65380                  463.920000   \n",
       "PRV51004                        327040                  622.751678   \n",
       "PRV51005                       2457840                  636.328755   \n",
       "PRV51008                        110530                  616.046512   \n",
       "PRV51011                         81160                  366.724138   \n",
       "\n",
       "          OPAnnualDeductibleAmt_max  OPAnnualDeductibleAmt_sum  ...  \\\n",
       "Provider                                                        ...   \n",
       "PRV51001                       2700                      11598  ...   \n",
       "PRV51004                       7410                      92790  ...   \n",
       "PRV51005                       6330                     741323  ...   \n",
       "PRV51008                       4140                      26490  ...   \n",
       "PRV51011                       1070                      21270  ...   \n",
       "\n",
       "          totalProcCode_3722  totalProcCode_8151  totalProcCode_8872  \\\n",
       "Provider                                                               \n",
       "PRV51001                   0                   0                   0   \n",
       "PRV51004                   0                   0                   0   \n",
       "PRV51005                   0                   0                   0   \n",
       "PRV51008                   0                   0                   0   \n",
       "PRV51011                   0                   0                   0   \n",
       "\n",
       "          totalProcCode_9671  totalProcCode_4513  totalProcCode_5849  \\\n",
       "Provider                                                               \n",
       "PRV51001                   0                   0                   0   \n",
       "PRV51004                   0                   0                   0   \n",
       "PRV51005                   0                   0                   0   \n",
       "PRV51008                   0                   0                   0   \n",
       "PRV51011                   0                   0                   0   \n",
       "\n",
       "          totalProcCode_9390  totalProcCode_Other  TotalTeDiagCode  \\\n",
       "Provider                                                             \n",
       "PRV51001                   0                  125         1.166158   \n",
       "PRV51004                   0                  745         1.144495   \n",
       "PRV51005                   0                 5825         1.174065   \n",
       "PRV51008                   0                  215         1.144524   \n",
       "PRV51011                   0                  290         1.141459   \n",
       "\n",
       "          TotalTeProcCode  \n",
       "Provider                   \n",
       "PRV51001         1.186518  \n",
       "PRV51004         1.161067  \n",
       "PRV51005         1.161067  \n",
       "PRV51008         1.163394  \n",
       "PRV51011         1.161067  \n",
       "\n",
       "[5 rows x 104 columns]"
      ]
     },
     "execution_count": 3,
     "metadata": {},
     "output_type": "execute_result"
    }
   ],
   "source": [
    "X_train.head()"
   ]
  },
  {
   "cell_type": "code",
   "execution_count": 60,
   "id": "ea4cfe53",
   "metadata": {},
   "outputs": [
    {
     "data": {
      "text/html": [
       "<div>\n",
       "<style scoped>\n",
       "    .dataframe tbody tr th:only-of-type {\n",
       "        vertical-align: middle;\n",
       "    }\n",
       "\n",
       "    .dataframe tbody tr th {\n",
       "        vertical-align: top;\n",
       "    }\n",
       "\n",
       "    .dataframe thead th {\n",
       "        text-align: right;\n",
       "    }\n",
       "</style>\n",
       "<table border=\"1\" class=\"dataframe\">\n",
       "  <thead>\n",
       "    <tr style=\"text-align: right;\">\n",
       "      <th></th>\n",
       "      <th>DeductibleAmtPaid_mean</th>\n",
       "      <th>DeductibleAmtPaid_max</th>\n",
       "      <th>NoOfMonths_PartACov_mean</th>\n",
       "      <th>NoOfMonths_PartBCov_mean</th>\n",
       "      <th>OPAnnualReimbursementAmt_mean</th>\n",
       "      <th>OPAnnualReimbursementAmt_max</th>\n",
       "      <th>OPAnnualReimbursementAmt_sum</th>\n",
       "      <th>OPAnnualDeductibleAmt_mean</th>\n",
       "      <th>OPAnnualDeductibleAmt_max</th>\n",
       "      <th>OPAnnualDeductibleAmt_sum</th>\n",
       "      <th>...</th>\n",
       "      <th>totalProcCode_3722</th>\n",
       "      <th>totalProcCode_8151</th>\n",
       "      <th>totalProcCode_8872</th>\n",
       "      <th>totalProcCode_9671</th>\n",
       "      <th>totalProcCode_4513</th>\n",
       "      <th>totalProcCode_5849</th>\n",
       "      <th>totalProcCode_9390</th>\n",
       "      <th>totalProcCode_Other</th>\n",
       "      <th>TotalTeDiagCode</th>\n",
       "      <th>TotalTeProcCode</th>\n",
       "    </tr>\n",
       "    <tr>\n",
       "      <th>Provider</th>\n",
       "      <th></th>\n",
       "      <th></th>\n",
       "      <th></th>\n",
       "      <th></th>\n",
       "      <th></th>\n",
       "      <th></th>\n",
       "      <th></th>\n",
       "      <th></th>\n",
       "      <th></th>\n",
       "      <th></th>\n",
       "      <th></th>\n",
       "      <th></th>\n",
       "      <th></th>\n",
       "      <th></th>\n",
       "      <th></th>\n",
       "      <th></th>\n",
       "      <th></th>\n",
       "      <th></th>\n",
       "      <th></th>\n",
       "      <th></th>\n",
       "      <th></th>\n",
       "    </tr>\n",
       "  </thead>\n",
       "  <tbody>\n",
       "    <tr>\n",
       "      <th>PRV51003</th>\n",
       "      <td>502.166667</td>\n",
       "      <td>1068.0</td>\n",
       "      <td>11.818182</td>\n",
       "      <td>11.871212</td>\n",
       "      <td>2678.181818</td>\n",
       "      <td>31880</td>\n",
       "      <td>353520</td>\n",
       "      <td>737.121212</td>\n",
       "      <td>9950</td>\n",
       "      <td>97300</td>\n",
       "      <td>...</td>\n",
       "      <td>0</td>\n",
       "      <td>0</td>\n",
       "      <td>0</td>\n",
       "      <td>0</td>\n",
       "      <td>0</td>\n",
       "      <td>0</td>\n",
       "      <td>0</td>\n",
       "      <td>660</td>\n",
       "      <td>1.180504</td>\n",
       "      <td>1.100834</td>\n",
       "    </tr>\n",
       "    <tr>\n",
       "      <th>PRV51007</th>\n",
       "      <td>45.333333</td>\n",
       "      <td>1068.0</td>\n",
       "      <td>11.833333</td>\n",
       "      <td>11.833333</td>\n",
       "      <td>1729.722222</td>\n",
       "      <td>6060</td>\n",
       "      <td>124540</td>\n",
       "      <td>469.722222</td>\n",
       "      <td>1970</td>\n",
       "      <td>33820</td>\n",
       "      <td>...</td>\n",
       "      <td>0</td>\n",
       "      <td>0</td>\n",
       "      <td>0</td>\n",
       "      <td>0</td>\n",
       "      <td>0</td>\n",
       "      <td>0</td>\n",
       "      <td>0</td>\n",
       "      <td>360</td>\n",
       "      <td>1.014301</td>\n",
       "      <td>1.022005</td>\n",
       "    </tr>\n",
       "    <tr>\n",
       "      <th>PRV51025</th>\n",
       "      <td>164.183908</td>\n",
       "      <td>1068.0</td>\n",
       "      <td>12.000000</td>\n",
       "      <td>12.000000</td>\n",
       "      <td>2288.965517</td>\n",
       "      <td>23330</td>\n",
       "      <td>199140</td>\n",
       "      <td>621.379310</td>\n",
       "      <td>8280</td>\n",
       "      <td>54060</td>\n",
       "      <td>...</td>\n",
       "      <td>0</td>\n",
       "      <td>0</td>\n",
       "      <td>0</td>\n",
       "      <td>0</td>\n",
       "      <td>0</td>\n",
       "      <td>0</td>\n",
       "      <td>0</td>\n",
       "      <td>435</td>\n",
       "      <td>1.035489</td>\n",
       "      <td>1.052657</td>\n",
       "    </tr>\n",
       "    <tr>\n",
       "      <th>PRV51026</th>\n",
       "      <td>4.473684</td>\n",
       "      <td>100.0</td>\n",
       "      <td>11.684211</td>\n",
       "      <td>12.000000</td>\n",
       "      <td>1811.578947</td>\n",
       "      <td>6700</td>\n",
       "      <td>137680</td>\n",
       "      <td>680.394737</td>\n",
       "      <td>2700</td>\n",
       "      <td>51710</td>\n",
       "      <td>...</td>\n",
       "      <td>0</td>\n",
       "      <td>0</td>\n",
       "      <td>0</td>\n",
       "      <td>0</td>\n",
       "      <td>0</td>\n",
       "      <td>0</td>\n",
       "      <td>0</td>\n",
       "      <td>380</td>\n",
       "      <td>0.999096</td>\n",
       "      <td>1.022881</td>\n",
       "    </tr>\n",
       "    <tr>\n",
       "      <th>PRV51041</th>\n",
       "      <td>7.941176</td>\n",
       "      <td>100.0</td>\n",
       "      <td>12.000000</td>\n",
       "      <td>12.000000</td>\n",
       "      <td>2287.647059</td>\n",
       "      <td>28900</td>\n",
       "      <td>77780</td>\n",
       "      <td>613.823529</td>\n",
       "      <td>7680</td>\n",
       "      <td>20870</td>\n",
       "      <td>...</td>\n",
       "      <td>0</td>\n",
       "      <td>0</td>\n",
       "      <td>0</td>\n",
       "      <td>0</td>\n",
       "      <td>0</td>\n",
       "      <td>0</td>\n",
       "      <td>0</td>\n",
       "      <td>170</td>\n",
       "      <td>0.990358</td>\n",
       "      <td>1.022881</td>\n",
       "    </tr>\n",
       "  </tbody>\n",
       "</table>\n",
       "<p>5 rows × 104 columns</p>\n",
       "</div>"
      ],
      "text/plain": [
       "          DeductibleAmtPaid_mean  DeductibleAmtPaid_max  \\\n",
       "Provider                                                  \n",
       "PRV51003              502.166667                 1068.0   \n",
       "PRV51007               45.333333                 1068.0   \n",
       "PRV51025              164.183908                 1068.0   \n",
       "PRV51026                4.473684                  100.0   \n",
       "PRV51041                7.941176                  100.0   \n",
       "\n",
       "          NoOfMonths_PartACov_mean  NoOfMonths_PartBCov_mean  \\\n",
       "Provider                                                       \n",
       "PRV51003                 11.818182                 11.871212   \n",
       "PRV51007                 11.833333                 11.833333   \n",
       "PRV51025                 12.000000                 12.000000   \n",
       "PRV51026                 11.684211                 12.000000   \n",
       "PRV51041                 12.000000                 12.000000   \n",
       "\n",
       "          OPAnnualReimbursementAmt_mean  OPAnnualReimbursementAmt_max  \\\n",
       "Provider                                                                \n",
       "PRV51003                    2678.181818                         31880   \n",
       "PRV51007                    1729.722222                          6060   \n",
       "PRV51025                    2288.965517                         23330   \n",
       "PRV51026                    1811.578947                          6700   \n",
       "PRV51041                    2287.647059                         28900   \n",
       "\n",
       "          OPAnnualReimbursementAmt_sum  OPAnnualDeductibleAmt_mean  \\\n",
       "Provider                                                             \n",
       "PRV51003                        353520                  737.121212   \n",
       "PRV51007                        124540                  469.722222   \n",
       "PRV51025                        199140                  621.379310   \n",
       "PRV51026                        137680                  680.394737   \n",
       "PRV51041                         77780                  613.823529   \n",
       "\n",
       "          OPAnnualDeductibleAmt_max  OPAnnualDeductibleAmt_sum  ...  \\\n",
       "Provider                                                        ...   \n",
       "PRV51003                       9950                      97300  ...   \n",
       "PRV51007                       1970                      33820  ...   \n",
       "PRV51025                       8280                      54060  ...   \n",
       "PRV51026                       2700                      51710  ...   \n",
       "PRV51041                       7680                      20870  ...   \n",
       "\n",
       "          totalProcCode_3722  totalProcCode_8151  totalProcCode_8872  \\\n",
       "Provider                                                               \n",
       "PRV51003                   0                   0                   0   \n",
       "PRV51007                   0                   0                   0   \n",
       "PRV51025                   0                   0                   0   \n",
       "PRV51026                   0                   0                   0   \n",
       "PRV51041                   0                   0                   0   \n",
       "\n",
       "          totalProcCode_9671  totalProcCode_4513  totalProcCode_5849  \\\n",
       "Provider                                                               \n",
       "PRV51003                   0                   0                   0   \n",
       "PRV51007                   0                   0                   0   \n",
       "PRV51025                   0                   0                   0   \n",
       "PRV51026                   0                   0                   0   \n",
       "PRV51041                   0                   0                   0   \n",
       "\n",
       "          totalProcCode_9390  totalProcCode_Other  TotalTeDiagCode  \\\n",
       "Provider                                                             \n",
       "PRV51003                   0                  660         1.180504   \n",
       "PRV51007                   0                  360         1.014301   \n",
       "PRV51025                   0                  435         1.035489   \n",
       "PRV51026                   0                  380         0.999096   \n",
       "PRV51041                   0                  170         0.990358   \n",
       "\n",
       "          TotalTeProcCode  \n",
       "Provider                   \n",
       "PRV51003         1.100834  \n",
       "PRV51007         1.022005  \n",
       "PRV51025         1.052657  \n",
       "PRV51026         1.022881  \n",
       "PRV51041         1.022881  \n",
       "\n",
       "[5 rows x 104 columns]"
      ]
     },
     "execution_count": 60,
     "metadata": {},
     "output_type": "execute_result"
    }
   ],
   "source": [
    "X_test.head()"
   ]
  },
  {
   "cell_type": "code",
   "execution_count": 4,
   "id": "e16d1f1c",
   "metadata": {},
   "outputs": [
    {
     "data": {
      "text/plain": [
       "(4328, 104)"
      ]
     },
     "metadata": {},
     "output_type": "display_data"
    },
    {
     "data": {
      "text/plain": [
       "(1082, 104)"
      ]
     },
     "metadata": {},
     "output_type": "display_data"
    },
    {
     "data": {
      "text/plain": [
       "(4328, 1)"
      ]
     },
     "metadata": {},
     "output_type": "display_data"
    },
    {
     "data": {
      "text/plain": [
       "(1082, 1)"
      ]
     },
     "metadata": {},
     "output_type": "display_data"
    }
   ],
   "source": [
    "display(X_train.shape,X_test.shape,y_train.shape,y_test.shape)"
   ]
  },
  {
   "cell_type": "code",
   "execution_count": 25,
   "id": "35632b85",
   "metadata": {},
   "outputs": [],
   "source": [
    "# fill NA as 0, X_test has two null values\n",
    "X_test.fillna(0,inplace=True)"
   ]
  },
  {
   "cell_type": "code",
   "execution_count": 6,
   "id": "d51eb495",
   "metadata": {},
   "outputs": [],
   "source": [
    "from sklearn.pipeline import Pipeline\n",
    "from sklearn.linear_model import LogisticRegression\n",
    "from sklearn.preprocessing import MinMaxScaler\n",
    "from sklearn.preprocessing import StandardScaler\n",
    "from sklearn.metrics import classification_report\n",
    "from sklearn.metrics import confusion_matrix\n",
    "from sklearn.metrics import classification_report\n",
    "from sklearn.metrics import precision_score, recall_score, f1_score, accuracy_score,roc_auc_score\n",
    "from sklearn.decomposition import PCA"
   ]
  },
  {
   "cell_type": "code",
   "execution_count": null,
   "id": "3983cea5",
   "metadata": {},
   "outputs": [],
   "source": []
  },
  {
   "cell_type": "markdown",
   "id": "2aa5b7f3",
   "metadata": {},
   "source": [
    "#### I. Baseline model"
   ]
  },
  {
   "cell_type": "code",
   "execution_count": 22,
   "id": "2519f8b4",
   "metadata": {},
   "outputs": [
    {
     "data": {
      "text/plain": [
       "Pipeline(steps=[('rescale', StandardScaler()),\n",
       "                ('logreg',\n",
       "                 LogisticRegression(max_iter=10000, random_state=42))])"
      ]
     },
     "execution_count": 22,
     "metadata": {},
     "output_type": "execute_result"
    }
   ],
   "source": [
    "steps = [('rescale', StandardScaler()), \n",
    "         ('logreg', LogisticRegression(random_state=42,max_iter=10000))]\n",
    "model = Pipeline(steps)\n",
    "model.fit(X_train, y_train)"
   ]
  },
  {
   "cell_type": "code",
   "execution_count": 19,
   "id": "a512d559",
   "metadata": {},
   "outputs": [],
   "source": [
    "y_train_pred = model.predict(X_train)\n",
    "y_test_pred = model.predict(X_test)"
   ]
  },
  {
   "cell_type": "code",
   "execution_count": 20,
   "id": "6ab0de3f",
   "metadata": {},
   "outputs": [
    {
     "name": "stdout",
     "output_type": "stream",
     "text": [
      "---------------------Train Classification Report--------------------------------\n",
      "\n",
      "              precision    recall  f1-score   support\n",
      "\n",
      "           0       0.97      0.99      0.98      3925\n",
      "           1       0.88      0.75      0.81       403\n",
      "\n",
      "    accuracy                           0.97      4328\n",
      "   macro avg       0.93      0.87      0.89      4328\n",
      "weighted avg       0.97      0.97      0.97      4328\n",
      "\n",
      "---------------------Test Classification Report--------------------------------\n",
      "\n",
      "              precision    recall  f1-score   support\n",
      "\n",
      "           0       0.90      1.00      0.95       979\n",
      "           1       0.00      0.00      0.00       103\n",
      "\n",
      "    accuracy                           0.90      1082\n",
      "   macro avg       0.45      0.50      0.48      1082\n",
      "weighted avg       0.82      0.90      0.86      1082\n",
      "\n"
     ]
    }
   ],
   "source": [
    "print('---------------------Train Classification Report--------------------------------\\n')\n",
    "print(classification_report(y_train, y_train_pred))\n",
    "print('---------------------Test Classification Report--------------------------------\\n')\n",
    "print(classification_report(y_test, y_test_pred))"
   ]
  },
  {
   "cell_type": "code",
   "execution_count": 26,
   "id": "47a98066",
   "metadata": {},
   "outputs": [
    {
     "data": {
      "text/plain": [
       "Text(0.5, 1.0, 'Test ROC Curve')"
      ]
     },
     "execution_count": 26,
     "metadata": {},
     "output_type": "execute_result"
    },
    {
     "data": {
      "text/plain": [
       "<Figure size 432x288 with 0 Axes>"
      ]
     },
     "metadata": {},
     "output_type": "display_data"
    },
    {
     "data": {
      "image/png": "[encoded data removed]",
      "text/plain": [
       "<Figure size 432x288 with 1 Axes>"
      ]
     },
     "metadata": {
      "needs_background": "light"
     },
     "output_type": "display_data"
    },
    {
     "data": {
      "image/png": "[encoded data removed]",
      "text/plain": [
       "<Figure size 432x288 with 1 Axes>"
      ]
     },
     "metadata": {
      "needs_background": "light"
     },
     "output_type": "display_data"
    }
   ],
   "source": [
    "from sklearn.metrics import plot_roc_curve \n",
    "\n",
    "plt.figure(1).clf()\n",
    "\n",
    "plot_roc_curve(model, X_train, y_train)\n",
    "\n",
    "plt.title('Train ROC Curve')\n",
    "\n",
    "plot_roc_curve(model, X_test, y_test)\n",
    "plt.title('Test ROC Curve')"
   ]
  },
  {
   "cell_type": "code",
   "execution_count": 27,
   "id": "c540ce9e",
   "metadata": {},
   "outputs": [],
   "source": [
    "y_train_proba= model.predict_proba(X_train)\n",
    "y_test_proba= model.predict_proba(X_test)\n",
    "\n",
    "y_train_score = y_train_proba[:, 1]\n",
    "y_test_score = y_test_proba [:, 1]"
   ]
  },
  {
   "cell_type": "code",
   "execution_count": 30,
   "id": "a4b582d1",
   "metadata": {},
   "outputs": [
    {
     "name": "stdout",
     "output_type": "stream",
     "text": [
      "PR-AUC is 0.89\n"
     ]
    },
    {
     "data": {
      "text/plain": [
       "Text(0.5, 1.0, 'Precision-Recall Curve of Train')"
      ]
     },
     "execution_count": 30,
     "metadata": {},
     "output_type": "execute_result"
    },
    {
     "data": {
      "image/png": "[encoded data removed]",
      "text/plain": [
       "<Figure size 432x288 with 1 Axes>"
      ]
     },
     "metadata": {
      "needs_background": "light"
     },
     "output_type": "display_data"
    }
   ],
   "source": [
    "from sklearn.metrics import precision_recall_curve\n",
    "from sklearn.metrics import auc,plot_precision_recall_curve\n",
    "# https://scikit-learn.org/stable/modules/generated/sklearn.metrics.auc.html\n",
    "\n",
    "# Data to plot precision - recall curve\n",
    "precision_train, recall_train, thresholds_train = precision_recall_curve(y_train, y_train_score)\n",
    "# Use AUC function to calculate the area under the curve of precision recall curve\n",
    "auc_precision_recalltrain = auc(recall_train, precision_train)\n",
    "print('PR-AUC is {:.2f}'.format(auc_precision_recalltrain))\n",
    "\n",
    "# plot PR curve\n",
    "plt.plot(recall_train, precision_train)\n",
    "plt.xlabel('Recall(Positive label:1)')\n",
    "plt.ylabel('Precision(Positive label:1)')\n",
    "plt.title('Precision-Recall Curve of Train')\n"
   ]
  },
  {
   "cell_type": "code",
   "execution_count": 31,
   "id": "017dfcaf",
   "metadata": {},
   "outputs": [
    {
     "name": "stdout",
     "output_type": "stream",
     "text": [
      "PR-AUC is 0.91\n"
     ]
    },
    {
     "data": {
      "text/plain": [
       "Text(0.5, 1.0, 'Precision-Recall Curve of Test ')"
      ]
     },
     "execution_count": 31,
     "metadata": {},
     "output_type": "execute_result"
    },
    {
     "data": {
      "image/png": "[encoded data removed]",
      "text/plain": [
       "<Figure size 432x288 with 1 Axes>"
      ]
     },
     "metadata": {
      "needs_background": "light"
     },
     "output_type": "display_data"
    }
   ],
   "source": [
    "# test\n",
    "\n",
    "# Data to plot precision - recall curve\n",
    "precision_test, recall_test, thresholds_test = precision_recall_curve(y_test, y_test_score)\n",
    "auc_precision_recall_test = auc(recall_test, precision_test)\n",
    "print('PR-AUC is {:.2f}'.format(auc_precision_recall_test))\n",
    "\n",
    "# plot PR curve\n",
    "plt.plot(recall_test, precision_test)\n",
    "plt.xlabel('Recall(Positive label:1)')\n",
    "plt.ylabel('Precision(Positive label:1)')\n",
    "plt.title('Precision-Recall Curve of Test ')"
   ]
  },
  {
   "cell_type": "code",
   "execution_count": null,
   "id": "6166812b",
   "metadata": {},
   "outputs": [],
   "source": [
    "# 1.2 Feature importance"
   ]
  },
  {
   "cell_type": "code",
   "execution_count": 32,
   "id": "f89093da",
   "metadata": {},
   "outputs": [],
   "source": [
    "# calculate the feature score\n",
    "# model[1]: logisticregression\n",
    "importance = model[1].coef_[0]  \n",
    "# for i,j in enumerate(importance):\n",
    "# print('Feature: %0d, Score: %.5f' % (i,j))"
   ]
  },
  {
   "cell_type": "code",
   "execution_count": 44,
   "id": "6a143db2",
   "metadata": {},
   "outputs": [
    {
     "data": {
      "image/png": "[encoded data removed]",
      "text/plain": [
       "<Figure size 1296x432 with 1 Axes>"
      ]
     },
     "metadata": {
      "needs_background": "light"
     },
     "output_type": "display_data"
    }
   ],
   "source": [
    "# plot feature importance\n",
    "feature_names = X_train.columns\n",
    "feature_importance = (pd.Series(importance, index = feature_names)) #.sort_values(ascending=False)\n",
    "plt.figure(figsize=(18,6))\n",
    "feature_importance[:50].plot.bar()\n",
    "plt.title('Logistic Feature Importance')\n",
    "plt.ylabel('Importance')\n",
    "plt.xlabel('Feature')\n",
    "plt.show()\n",
    "\n",
    "#? negative values ?"
   ]
  },
  {
   "cell_type": "code",
   "execution_count": 47,
   "id": "c2eda048",
   "metadata": {},
   "outputs": [],
   "source": [
    "from sklearn.feature_selection import SelectFromModel"
   ]
  },
  {
   "cell_type": "code",
   "execution_count": 48,
   "id": "79096250",
   "metadata": {},
   "outputs": [
    {
     "name": "stdout",
     "output_type": "stream",
     "text": [
      "50\n"
     ]
    }
   ],
   "source": [
    "pipeline1 = Pipeline([\n",
    "    ('selector', SelectFromModel(estimator=LogisticRegression(random_state=42,max_iter=10000), max_features=50, threshold=-np.inf)),\n",
    "    ('regressor',LogisticRegression())\n",
    "])\n",
    "\n",
    "pipeline1.fit(X_train, y_train)\n",
    "\n",
    "selected_features1 = pipeline1['selector'].get_support()\n",
    "print(selected_features1.sum())"
   ]
  },
  {
   "cell_type": "code",
   "execution_count": 49,
   "id": "ea9a3c1d",
   "metadata": {},
   "outputs": [
    {
     "name": "stdout",
     "output_type": "stream",
     "text": [
      "['DeductibleAmtPaid_max', 'NoOfMonths_PartACov_mean', 'NoOfMonths_PartBCov_mean', 'OPAnnualReimbursementAmt_mean', 'OPAnnualDeductibleAmt_mean', 'Gender', 'ClaimPeriod', 'RaceOneFrac', 'MajorRace', 'Age', 'uniqBeneCount', 'ClmsperBene', 'uniqATPhysnCount', 'ClmsperATPhysn', 'uniqOPPhysnCount', 'ClmsperOPPhysn', 'uniqOTPhysnCount', 'ClmsperOTPhysn', 'StateCount_Uniq', 'MajorState', 'CountyCount_Uniq', 'MajorCounty', 'MaxHospitalDays', 'MedianHospitalDays', 'MeanHospitalDays', 'Chronic_Heartfailure_Frac', 'Chronic_Diabetes_Frac', 'Chronic_IschemicHeart_Frac', 'MaxDiagCodeNumPerClaim', 'MeanDiagCodeNumPerClaim', 'TotalDiagCodeNum', 'TotalProcCodeNum', 'MeanHighFreqDiagCodeNumPerClaim', 'MeanMediumFreqDiagCodeNumPerClaim', 'MeanRareFreqDiagCodeNumPerClaim', 'TotalMediumHighFreqProcCodeNumPerClaim', 'totalDiagCode_4019', 'totalDiagCode_25000', 'totalDiagCode_V5869', 'totalDiagCode_42731', 'totalDiagCode_2720', 'totalDiagCode_2449', 'totalDiagCode_4280', 'totalDiagCode_53081', 'totalDiagCode_41401', 'totalDiagCode_496', 'totalDiagCode_2589', 'totalDiagCode_Other', 'TotalTeDiagCode', 'TotalTeProcCode']\n"
     ]
    }
   ],
   "source": [
    "selected_features_names1 = X_train.columns[selected_features1].tolist()\n",
    "print(selected_features_names1)"
   ]
  },
  {
   "cell_type": "code",
   "execution_count": 54,
   "id": "172b44be",
   "metadata": {},
   "outputs": [],
   "source": [
    "X_train_reduced50 = X_train[['DeductibleAmtPaid_max', 'NoOfMonths_PartACov_mean', 'NoOfMonths_PartBCov_mean', 'OPAnnualReimbursementAmt_mean', 'OPAnnualDeductibleAmt_mean', 'Gender', 'ClaimPeriod', 'RaceOneFrac', 'MajorRace', 'Age', 'uniqBeneCount', 'ClmsperBene', 'uniqATPhysnCount', 'ClmsperATPhysn', 'uniqOPPhysnCount', 'ClmsperOPPhysn', 'uniqOTPhysnCount', 'ClmsperOTPhysn', 'StateCount_Uniq', 'MajorState', 'CountyCount_Uniq', 'MajorCounty', 'MaxHospitalDays', 'MedianHospitalDays', 'MeanHospitalDays', 'Chronic_Heartfailure_Frac', 'Chronic_Diabetes_Frac', 'Chronic_IschemicHeart_Frac', 'MaxDiagCodeNumPerClaim', 'MeanDiagCodeNumPerClaim', 'TotalDiagCodeNum', 'TotalProcCodeNum', 'MeanHighFreqDiagCodeNumPerClaim', 'MeanMediumFreqDiagCodeNumPerClaim', 'MeanRareFreqDiagCodeNumPerClaim', 'TotalMediumHighFreqProcCodeNumPerClaim', 'totalDiagCode_4019', 'totalDiagCode_25000', 'totalDiagCode_V5869', 'totalDiagCode_42731', 'totalDiagCode_2720', 'totalDiagCode_2449', 'totalDiagCode_4280', 'totalDiagCode_53081', 'totalDiagCode_41401', 'totalDiagCode_496', 'totalDiagCode_2589', 'totalDiagCode_Other', 'TotalTeDiagCode', 'TotalTeProcCode']]"
   ]
  },
  {
   "cell_type": "code",
   "execution_count": 52,
   "id": "bab8bf92",
   "metadata": {},
   "outputs": [],
   "source": [
    "X_test_reduced50 = X_test[['DeductibleAmtPaid_max', 'NoOfMonths_PartACov_mean', 'NoOfMonths_PartBCov_mean', 'OPAnnualReimbursementAmt_mean', 'OPAnnualDeductibleAmt_mean', 'Gender', 'ClaimPeriod', 'RaceOneFrac', 'MajorRace', 'Age', 'uniqBeneCount', 'ClmsperBene', 'uniqATPhysnCount', 'ClmsperATPhysn', 'uniqOPPhysnCount', 'ClmsperOPPhysn', 'uniqOTPhysnCount', 'ClmsperOTPhysn', 'StateCount_Uniq', 'MajorState', 'CountyCount_Uniq', 'MajorCounty', 'MaxHospitalDays', 'MedianHospitalDays', 'MeanHospitalDays', 'Chronic_Heartfailure_Frac', 'Chronic_Diabetes_Frac', 'Chronic_IschemicHeart_Frac', 'MaxDiagCodeNumPerClaim', 'MeanDiagCodeNumPerClaim', 'TotalDiagCodeNum', 'TotalProcCodeNum', 'MeanHighFreqDiagCodeNumPerClaim', 'MeanMediumFreqDiagCodeNumPerClaim', 'MeanRareFreqDiagCodeNumPerClaim', 'TotalMediumHighFreqProcCodeNumPerClaim', 'totalDiagCode_4019', 'totalDiagCode_25000', 'totalDiagCode_V5869', 'totalDiagCode_42731', 'totalDiagCode_2720', 'totalDiagCode_2449', 'totalDiagCode_4280', 'totalDiagCode_53081', 'totalDiagCode_41401', 'totalDiagCode_496', 'totalDiagCode_2589', 'totalDiagCode_Other', 'TotalTeDiagCode', 'TotalTeProcCode']]"
   ]
  },
  {
   "cell_type": "code",
   "execution_count": 56,
   "id": "8306e434",
   "metadata": {},
   "outputs": [
    {
     "data": {
      "text/plain": [
       "Pipeline(steps=[('rescale', StandardScaler()),\n",
       "                ('logreg',\n",
       "                 LogisticRegression(max_iter=10000, random_state=42))])"
      ]
     },
     "execution_count": 56,
     "metadata": {},
     "output_type": "execute_result"
    }
   ],
   "source": [
    "steps_reduced50 = [('rescale', StandardScaler()), \n",
    "         ('logreg', LogisticRegression(random_state=42,max_iter=10000))]\n",
    "model_reduced50 = Pipeline(steps_reduced50)\n",
    "model_reduced50.fit(X_train_reduced50, y_train)"
   ]
  },
  {
   "cell_type": "code",
   "execution_count": 57,
   "id": "71d6ba7d",
   "metadata": {},
   "outputs": [],
   "source": [
    "y_train_pred50= model_reduced50.predict(X_train_reduced50)\n",
    "y_test_pred50 = model_reduced50.predict(X_test_reduced50)"
   ]
  },
  {
   "cell_type": "code",
   "execution_count": 58,
   "id": "8dd88761",
   "metadata": {},
   "outputs": [],
   "source": [
    "y_train_proba50= model_reduced50.predict_proba(X_train_reduced50)\n",
    "y_test_proba50= model_reduced50.predict_proba(X_test_reduced50)\n",
    "\n",
    "y_train_score50 = y_train_proba50[:, 1]\n",
    "y_test_score50 = y_test_proba50[:, 1]"
   ]
  },
  {
   "cell_type": "code",
   "execution_count": 78,
   "id": "0c982266",
   "metadata": {},
   "outputs": [
    {
     "name": "stdout",
     "output_type": "stream",
     "text": [
      "---------------------Train Classification Report--------------------------------\n",
      "\n",
      "              precision    recall  f1-score   support\n",
      "\n",
      "           0       0.97      0.99      0.98      3925\n",
      "           1       0.86      0.72      0.79       403\n",
      "\n",
      "    accuracy                           0.96      4328\n",
      "   macro avg       0.92      0.86      0.88      4328\n",
      "weighted avg       0.96      0.96      0.96      4328\n",
      "\n",
      "---------------------Test Classification Report--------------------------------\n",
      "\n",
      "              precision    recall  f1-score   support\n",
      "\n",
      "           0       0.91      1.00      0.95       979\n",
      "           1       1.00      0.05      0.09       103\n",
      "\n",
      "    accuracy                           0.91      1082\n",
      "   macro avg       0.95      0.52      0.52      1082\n",
      "weighted avg       0.92      0.91      0.87      1082\n",
      "\n"
     ]
    }
   ],
   "source": [
    "print('---------------------Train Classification Report--------------------------------\\n')\n",
    "print(classification_report(y_train, y_train_pred50))\n",
    "print('---------------------Test Classification Report--------------------------------\\n')\n",
    "print(classification_report(y_test, y_test_pred50))"
   ]
  },
  {
   "cell_type": "code",
   "execution_count": 61,
   "id": "4d48dd14",
   "metadata": {},
   "outputs": [
    {
     "name": "stdout",
     "output_type": "stream",
     "text": [
      "PR-AUC is 0.88\n"
     ]
    },
    {
     "data": {
      "text/plain": [
       "Text(0.5, 1.0, 'Precision-Recall Curve of Train 50')"
      ]
     },
     "execution_count": 61,
     "metadata": {},
     "output_type": "execute_result"
    },
    {
     "data": {
      "image/png": "[encoded data removed]",
      "text/plain": [
       "<Figure size 432x288 with 1 Axes>"
      ]
     },
     "metadata": {
      "needs_background": "light"
     },
     "output_type": "display_data"
    }
   ],
   "source": [
    "precision_train50, recall_train50, thresholds_train50 = precision_recall_curve(y_train, y_train_score50)\n",
    "# Use AUC function to calculate the area under the curve of precision recall curve\n",
    "auc_precision_recalltrain50 = auc(recall_train50, precision_train50)\n",
    "print('PR-AUC is {:.2f}'.format(auc_precision_recalltrain50))\n",
    "\n",
    "# plot PR curve\n",
    "plt.plot(recall_train50, precision_train50)\n",
    "plt.xlabel('Recall(Positive label:1)')\n",
    "plt.ylabel('Precision(Positive label:1)')\n",
    "plt.title('Precision-Recall Curve of Train 50')"
   ]
  },
  {
   "cell_type": "code",
   "execution_count": 63,
   "id": "75a1f0f9",
   "metadata": {},
   "outputs": [
    {
     "name": "stdout",
     "output_type": "stream",
     "text": [
      "PR-AUC is 0.91\n"
     ]
    },
    {
     "data": {
      "text/plain": [
       "Text(0.5, 1.0, 'Precision-Recall Curve of Test 50')"
      ]
     },
     "execution_count": 63,
     "metadata": {},
     "output_type": "execute_result"
    },
    {
     "data": {
      "image/png": "[encoded data removed]",
      "text/plain": [
       "<Figure size 432x288 with 1 Axes>"
      ]
     },
     "metadata": {
      "needs_background": "light"
     },
     "output_type": "display_data"
    }
   ],
   "source": [
    "precision_test50, recall_test50, thresholds_test50 = precision_recall_curve(y_test, y_test_score50)\n",
    "# Use AUC function to calculate the area under the curve of precision recall curve\n",
    "auc_precision_recalltest50 = auc(recall_test50, precision_test50)\n",
    "print('PR-AUC is {:.2f}'.format(auc_precision_recalltest50))\n",
    "\n",
    "# plot PR curve\n",
    "plt.plot(recall_test50, precision_test50)\n",
    "plt.xlabel('Recall(Positive label:1)')\n",
    "plt.ylabel('Precision(Positive label:1)')\n",
    "plt.title('Precision-Recall Curve of Test 50')\n",
    "\n",
    "\n",
    "# Note: same as all features"
   ]
  },
  {
   "cell_type": "markdown",
   "id": "d2f879ba",
   "metadata": {},
   "source": [
    "#### II. Modeling with balanced class weights"
   ]
  },
  {
   "cell_type": "code",
   "execution_count": null,
   "id": "5693437e",
   "metadata": {},
   "outputs": [],
   "source": [
    "### 2.1 all features"
   ]
  },
  {
   "cell_type": "code",
   "execution_count": 64,
   "id": "1070f75e",
   "metadata": {},
   "outputs": [
    {
     "data": {
      "text/plain": [
       "Pipeline(steps=[('rescale', StandardScaler()),\n",
       "                ('logreg',\n",
       "                 LogisticRegression(class_weight='balanced', max_iter=10000,\n",
       "                                    random_state=42))])"
      ]
     },
     "execution_count": 64,
     "metadata": {},
     "output_type": "execute_result"
    }
   ],
   "source": [
    "steps_balanced = [('rescale', StandardScaler()), \n",
    "          ('logreg', LogisticRegression(class_weight = 'balanced',random_state=42,max_iter=10000))]\n",
    "model_balanced = Pipeline(steps_balanced)\n",
    "model_balanced.fit(X_train, y_train)"
   ]
  },
  {
   "cell_type": "code",
   "execution_count": 66,
   "id": "5f0f8f85",
   "metadata": {},
   "outputs": [],
   "source": [
    "y_train_predbal= model_balanced .predict(X_train)\n",
    "y_test_predbal = model_balanced .predict(X_test)"
   ]
  },
  {
   "cell_type": "code",
   "execution_count": 67,
   "id": "5496d08f",
   "metadata": {},
   "outputs": [],
   "source": [
    "y_train_probabal= model_balanced .predict_proba(X_train)\n",
    "y_test_probabal= model_balanced .predict_proba(X_test)\n",
    "\n",
    "y_train_scorebal = y_train_probabal[:, 1]\n",
    "y_test_scorebal = y_test_probabal[:, 1]"
   ]
  },
  {
   "cell_type": "code",
   "execution_count": 75,
   "id": "991a2ba5",
   "metadata": {},
   "outputs": [
    {
     "name": "stdout",
     "output_type": "stream",
     "text": [
      "---------------------Train Classification Report--------------------------------\n",
      "\n",
      "              precision    recall  f1-score   support\n",
      "\n",
      "           0       0.99      0.93      0.96      3925\n",
      "           1       0.58      0.95      0.72       403\n",
      "\n",
      "    accuracy                           0.93      4328\n",
      "   macro avg       0.79      0.94      0.84      4328\n",
      "weighted avg       0.96      0.93      0.94      4328\n",
      "\n",
      "---------------------Test Classification Report--------------------------------\n",
      "\n",
      "              precision    recall  f1-score   support\n",
      "\n",
      "           0       0.91      1.00      0.95       979\n",
      "           1       1.00      0.01      0.02       103\n",
      "\n",
      "    accuracy                           0.91      1082\n",
      "   macro avg       0.95      0.50      0.48      1082\n",
      "weighted avg       0.91      0.91      0.86      1082\n",
      "\n"
     ]
    }
   ],
   "source": [
    "print('---------------------Train Classification Report--------------------------------\\n')\n",
    "print(classification_report(y_train, y_train_predbal))\n",
    "print('---------------------Test Classification Report--------------------------------\\n')\n",
    "print(classification_report(y_test, y_test_predbal))"
   ]
  },
  {
   "cell_type": "code",
   "execution_count": 76,
   "id": "ebac077f",
   "metadata": {},
   "outputs": [
    {
     "name": "stdout",
     "output_type": "stream",
     "text": [
      "PR-AUC is 0.85\n"
     ]
    },
    {
     "data": {
      "text/plain": [
       "Text(0.5, 1.0, 'Precision-Recall Curve of Train Balanced')"
      ]
     },
     "execution_count": 76,
     "metadata": {},
     "output_type": "execute_result"
    },
    {
     "data": {
      "image/png": "[encoded data removed]",
      "text/plain": [
       "<Figure size 432x288 with 1 Axes>"
      ]
     },
     "metadata": {
      "needs_background": "light"
     },
     "output_type": "display_data"
    }
   ],
   "source": [
    "precision_trainbal, recall_trainbal, thresholds_trainbal = precision_recall_curve(y_train, y_train_scorebal)\n",
    "# Use AUC function to calculate the area under the curve of precision recall curve\n",
    "auc_precision_recalltrainbal = auc(recall_trainbal, precision_trainbal)\n",
    "print('PR-AUC is {:.2f}'.format(auc_precision_recalltrainbal))\n",
    "\n",
    "# plot PR curve\n",
    "plt.plot(recall_trainbal, precision_trainbal)\n",
    "plt.xlabel('Recall(Positive label:1)')\n",
    "plt.ylabel('Precision(Positive label:1)')\n",
    "plt.title('Precision-Recall Curve of Train Balanced')"
   ]
  },
  {
   "cell_type": "code",
   "execution_count": 77,
   "id": "83440e78",
   "metadata": {},
   "outputs": [
    {
     "name": "stdout",
     "output_type": "stream",
     "text": [
      "PR-AUC is 0.91\n"
     ]
    },
    {
     "data": {
      "text/plain": [
       "Text(0.5, 1.0, 'Precision-Recall Curve of Test Balanced')"
      ]
     },
     "execution_count": 77,
     "metadata": {},
     "output_type": "execute_result"
    },
    {
     "data": {
      "image/png": "[encoded data removed]",
      "text/plain": [
       "<Figure size 432x288 with 1 Axes>"
      ]
     },
     "metadata": {
      "needs_background": "light"
     },
     "output_type": "display_data"
    }
   ],
   "source": [
    "precision_testbal, recall_testbal, thresholds_testbal = precision_recall_curve(y_test, y_test_scorebal)\n",
    "# Use AUC function to calculate the area under the curve of precision recall curve\n",
    "auc_precision_recalltestbal = auc(recall_testbal, precision_testbal)\n",
    "print('PR-AUC is {:.2f}'.format(auc_precision_recalltestbal))\n",
    "\n",
    "# plot PR curve\n",
    "plt.plot(recall_testbal, precision_testbal)\n",
    "plt.xlabel('Recall(Positive label:1)')\n",
    "plt.ylabel('Precision(Positive label:1)')\n",
    "plt.title('Precision-Recall Curve of Test Balanced')"
   ]
  },
  {
   "cell_type": "code",
   "execution_count": null,
   "id": "96a9045a",
   "metadata": {},
   "outputs": [],
   "source": [
    "##### 2.2 50 featurs"
   ]
  },
  {
   "cell_type": "code",
   "execution_count": 71,
   "id": "f1706371",
   "metadata": {},
   "outputs": [
    {
     "data": {
      "text/plain": [
       "Pipeline(steps=[('rescale', StandardScaler()),\n",
       "                ('logreg',\n",
       "                 LogisticRegression(class_weight='balanced', max_iter=10000,\n",
       "                                    random_state=42))])"
      ]
     },
     "execution_count": 71,
     "metadata": {},
     "output_type": "execute_result"
    }
   ],
   "source": [
    "steps_balanced50 = [('rescale', StandardScaler()), \n",
    "          ('logreg', LogisticRegression(class_weight = 'balanced',random_state=42,max_iter=10000))]\n",
    "model_balanced50 = Pipeline(steps_balanced)\n",
    "model_balanced50.fit(X_train_reduced50, y_train)"
   ]
  },
  {
   "cell_type": "code",
   "execution_count": 72,
   "id": "5cf312bd",
   "metadata": {},
   "outputs": [],
   "source": [
    "y_train_predbal50= model_balanced50.predict(X_train_reduced50)\n",
    "y_test_predbal50 = model_balanced50.predict(X_test_reduced50)"
   ]
  },
  {
   "cell_type": "code",
   "execution_count": 74,
   "id": "207d3407",
   "metadata": {},
   "outputs": [],
   "source": [
    "y_train_probabal50= model_balanced50.predict_proba(X_train_reduced50)\n",
    "y_test_probabal50= model_balanced50.predict_proba(X_test_reduced50)\n",
    "\n",
    "y_train_scorebal50 = y_train_probabal50[:, 1]\n",
    "y_test_scorebal50 = y_test_probabal50[:, 1]"
   ]
  },
  {
   "cell_type": "code",
   "execution_count": 79,
   "id": "3419e71f",
   "metadata": {},
   "outputs": [
    {
     "name": "stdout",
     "output_type": "stream",
     "text": [
      "---------------------Train Classification Report--------------------------------\n",
      "\n",
      "              precision    recall  f1-score   support\n",
      "\n",
      "           0       0.99      0.92      0.96      3925\n",
      "           1       0.56      0.95      0.70       403\n",
      "\n",
      "    accuracy                           0.93      4328\n",
      "   macro avg       0.78      0.94      0.83      4328\n",
      "weighted avg       0.95      0.93      0.93      4328\n",
      "\n",
      "---------------------Test Classification Report--------------------------------\n",
      "\n",
      "              precision    recall  f1-score   support\n",
      "\n",
      "           0       0.92      1.00      0.96       979\n",
      "           1       0.95      0.18      0.31       103\n",
      "\n",
      "    accuracy                           0.92      1082\n",
      "   macro avg       0.94      0.59      0.63      1082\n",
      "weighted avg       0.92      0.92      0.90      1082\n",
      "\n"
     ]
    }
   ],
   "source": [
    "print('---------------------Train Classification Report--------------------------------\\n')\n",
    "print(classification_report(y_train, y_train_predbal50))\n",
    "print('---------------------Test Classification Report--------------------------------\\n')\n",
    "print(classification_report(y_test, y_test_predbal50))"
   ]
  },
  {
   "cell_type": "code",
   "execution_count": 80,
   "id": "915f2422",
   "metadata": {},
   "outputs": [
    {
     "name": "stdout",
     "output_type": "stream",
     "text": [
      "PR-AUC is 0.85\n"
     ]
    },
    {
     "data": {
      "text/plain": [
       "Text(0.5, 1.0, 'Precision-Recall Curve of Train balanced 50')"
      ]
     },
     "execution_count": 80,
     "metadata": {},
     "output_type": "execute_result"
    },
    {
     "data": {
      "image/png": "[encoded data removed]",
      "text/plain": [
       "<Figure size 432x288 with 1 Axes>"
      ]
     },
     "metadata": {
      "needs_background": "light"
     },
     "output_type": "display_data"
    }
   ],
   "source": [
    "precision_trainbal50, recall_trainbal50, thresholds_trainbal50 = precision_recall_curve(y_train, y_train_scorebal50)\n",
    "# Use AUC function to calculate the area under the curve of precision recall curve\n",
    "auc_precision_recalltrainbal50 = auc(recall_trainbal50, precision_trainbal50)\n",
    "print('PR-AUC is {:.2f}'.format(auc_precision_recalltrainbal50))\n",
    "\n",
    "# plot PR curve\n",
    "plt.plot(recall_trainbal50, precision_trainbal50)\n",
    "plt.xlabel('Recall(Positive label:1)')\n",
    "plt.ylabel('Precision(Positive label:1)')\n",
    "plt.title('Precision-Recall Curve of Train balanced 50')"
   ]
  },
  {
   "cell_type": "code",
   "execution_count": 81,
   "id": "8f56a366",
   "metadata": {},
   "outputs": [
    {
     "name": "stdout",
     "output_type": "stream",
     "text": [
      "PR-AUC is 0.90\n"
     ]
    },
    {
     "data": {
      "text/plain": [
       "Text(0.5, 1.0, 'Precision-Recall Curve of Test Balanced 50')"
      ]
     },
     "execution_count": 81,
     "metadata": {},
     "output_type": "execute_result"
    },
    {
     "data": {
      "image/png": "[encoded data removed]",
      "text/plain": [
       "<Figure size 432x288 with 1 Axes>"
      ]
     },
     "metadata": {
      "needs_background": "light"
     },
     "output_type": "display_data"
    }
   ],
   "source": [
    "precision_testbal50, recall_testbal50, thresholds_testbal50 = precision_recall_curve(y_test, y_test_scorebal50)\n",
    "# Use AUC function to calculate the area under the curve of precision recall curve\n",
    "auc_precision_recalltestbal50 = auc(recall_testbal50, precision_testbal50)\n",
    "print('PR-AUC is {:.2f}'.format(auc_precision_recalltestbal50))\n",
    "\n",
    "# plot PR curve\n",
    "plt.plot(recall_testbal50, precision_testbal50)\n",
    "plt.xlabel('Recall(Positive label:1)')\n",
    "plt.ylabel('Precision(Positive label:1)')\n",
    "plt.title('Precision-Recall Curve of Test Balanced 50')"
   ]
  },
  {
   "cell_type": "markdown",
   "id": "4ec0d213",
   "metadata": {},
   "source": [
    "#### III. Cross Validation"
   ]
  },
  {
   "cell_type": "markdown",
   "id": "8a7fff1e",
   "metadata": {},
   "source": [
    "#### 3.1 With all features"
   ]
  },
  {
   "cell_type": "code",
   "execution_count": null,
   "id": "9196e7db",
   "metadata": {},
   "outputs": [],
   "source": [
    "from xgboost import cv"
   ]
  },
  {
   "cell_type": "code",
   "execution_count": null,
   "id": "ec19e661",
   "metadata": {},
   "outputs": [],
   "source": []
  },
  {
   "cell_type": "code",
   "execution_count": null,
   "id": "be36c2c7",
   "metadata": {},
   "outputs": [],
   "source": []
  },
  {
   "cell_type": "code",
   "execution_count": null,
   "id": "d416c8ea",
   "metadata": {},
   "outputs": [],
   "source": [
    "\n",
    "from xgboost import XGBClassifier\n",
    "from sklearn.datasets import load_iris\n",
    "from sklearn.metrics import confusion_matrix\n",
    "from sklearn.model_selection import train_test_split\n",
    "from sklearn.model_selection import cross_val_score, KFold\n",
    "\n",
    "iris = load_iris()\n",
    "x, y = iris.data, iris.target\n",
    "xtrain, xtest, ytrain, ytest=train_test_split(x, y, test_size=0.15)\n",
    "\n",
    "xgbc = XGBClassifier()\n",
    "print(xgbc)\n",
    "\n",
    "xgbc.fit(xtrain, ytrain)\n",
    "\n",
    "# - cross validataion\n",
    "scores = cross_val_score(xgbc, xtrain, ytrain, cv=5)\n",
    "print(\"Mean cross-validation score: %.2f\" % scores.mean())\n",
    "\n",
    "kfold = KFold(n_splits=10, shuffle=True)\n",
    "kf_cv_scores = cross_val_score(xgbc, xtrain, ytrain, cv=kfold )\n",
    "print(\"K-fold CV average score: %.2f\" % kf_cv_scores.mean())\n",
    "\n",
    "ypred = xgbc.predict(xtest)\n",
    "cm = confusion_matrix(ytest,ypred)\n",
    "print(cm)"
   ]
  },
  {
   "cell_type": "code",
   "execution_count": null,
   "id": "46f2b921",
   "metadata": {},
   "outputs": [],
   "source": []
  },
  {
   "cell_type": "code",
   "execution_count": null,
   "id": "0bfb179b",
   "metadata": {},
   "outputs": [],
   "source": []
  },
  {
   "cell_type": "markdown",
   "id": "8303ed57",
   "metadata": {},
   "source": [
    "# PR-AUC Comparison"
   ]
  },
  {
   "cell_type": "code",
   "execution_count": null,
   "id": "e48ab71c",
   "metadata": {},
   "outputs": [],
   "source": [
    "# Intitialize figure with two plots\n",
    "fig, ax = plt.subplots()\n",
    "# fig.suptitle('Model Comparison', fontsize=16, fontweight='bold')\n",
    "fig.set_figheight(7)\n",
    "fig.set_figwidth(14)\n",
    "fig.set_facecolor('white')\n",
    "\n",
    "ax.plot(recall, precision, label='Baseline with all features')\n",
    "ax.plot(recall_reduced50, precision_reduced50, label='Baseline with 50 Features')\n",
    "ax.plot(recall_para, precision_para, label='Parameters with all features')\n",
    "ax.plot(recall_para50_test, precision_para50_test, label='Parameters with 50 features')\n",
    "\n",
    "\n",
    "## Configure x and y axis\n",
    "ax.set_xlabel('Recall', fontweight='bold')\n",
    "ax.set_ylabel('Precision', fontweight='bold')\n",
    "ax.set_ylim(0, 1)\n",
    "## Create legend & title\n",
    "ax.set_title('Test PR-AUC Curve Comparison', fontsize=14, fontweight='bold')\n",
    "ax.legend(loc=1)\n",
    "\n",
    "plt.show()\n",
    "\n",
    "\n",
    "\n"
   ]
  },
  {
   "cell_type": "code",
   "execution_count": null,
   "id": "e419d6b1",
   "metadata": {},
   "outputs": [],
   "source": []
  },
  {
   "cell_type": "code",
   "execution_count": null,
   "id": "a53a4512",
   "metadata": {},
   "outputs": [],
   "source": []
  },
  {
   "cell_type": "code",
   "execution_count": null,
   "id": "6a6207b6",
   "metadata": {},
   "outputs": [],
   "source": []
  }
 ],
 "metadata": {
  "kernelspec": {
   "display_name": "Python 3 (ipykernel)",
   "language": "python",
   "name": "python3"
  },
  "language_info": {
   "codemirror_mode": {
    "name": "ipython",
    "version": 3
   },
   "file_extension": ".py",
   "mimetype": "text/x-python",
   "name": "python",
   "nbconvert_exporter": "python",
   "pygments_lexer": "ipython3",
   "version": "3.9.7"
  }
 },
 "nbformat": 4,
 "nbformat_minor": 5
}

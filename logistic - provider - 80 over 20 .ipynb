{
 "cells": [
  {
   "cell_type": "code",
   "execution_count": 2,
   "id": "4c0d862b",
   "metadata": {},
   "outputs": [],
   "source": [
    "# Import libraries\n",
    "\n",
    "import warnings\n",
    "warnings.filterwarnings(\"ignore\")\n",
    "import pandas as pd\n",
    "import numpy as np\n",
    "import seaborn as sns\n",
    "import matplotlib.pyplot as plt"
   ]
  },
  {
   "cell_type": "code",
   "execution_count": 3,
   "id": "8ec776b0",
   "metadata": {},
   "outputs": [],
   "source": [
    "X_train= pd.read_csv('/Users/cuicuisong/Desktop/data/X_train_aggregated.csv',  index_col=0)\n",
    "X_test= pd.read_csv('/Users/cuicuisong/Desktop/data/X_test_aggregated.csv',  index_col=0)\n",
    "y_train= pd.read_csv('/Users/cuicuisong/Desktop/data/y_train_agg.csv')\n",
    "y_test= pd.read_csv('/Users/cuicuisong/Desktop/data//y_test_agg.csv')"
   ]
  },
  {
   "cell_type": "code",
   "execution_count": 4,
   "id": "7ce8e0d1",
   "metadata": {},
   "outputs": [
    {
     "data": {
      "text/html": [
       "<div>\n",
       "<style scoped>\n",
       "    .dataframe tbody tr th:only-of-type {\n",
       "        vertical-align: middle;\n",
       "    }\n",
       "\n",
       "    .dataframe tbody tr th {\n",
       "        vertical-align: top;\n",
       "    }\n",
       "\n",
       "    .dataframe thead th {\n",
       "        text-align: right;\n",
       "    }\n",
       "</style>\n",
       "<table border=\"1\" class=\"dataframe\">\n",
       "  <thead>\n",
       "    <tr style=\"text-align: right;\">\n",
       "      <th></th>\n",
       "      <th>DeductibleAmtPaid_mean</th>\n",
       "      <th>DeductibleAmtPaid_max</th>\n",
       "      <th>NoOfMonths_PartACov_mean</th>\n",
       "      <th>NoOfMonths_PartBCov_mean</th>\n",
       "      <th>OPAnnualReimbursementAmt_mean</th>\n",
       "      <th>OPAnnualReimbursementAmt_max</th>\n",
       "      <th>OPAnnualReimbursementAmt_sum</th>\n",
       "      <th>OPAnnualDeductibleAmt_mean</th>\n",
       "      <th>OPAnnualDeductibleAmt_max</th>\n",
       "      <th>OPAnnualDeductibleAmt_sum</th>\n",
       "      <th>...</th>\n",
       "      <th>Chronic_KidneyDisease_Frac</th>\n",
       "      <th>Chronic_Cancer_Frac</th>\n",
       "      <th>Chronic_ObstrPulmonary_Frac</th>\n",
       "      <th>Chronic_Depression_Frac</th>\n",
       "      <th>Chronic_Diabetes_Frac</th>\n",
       "      <th>Chronic_IschemicHeart_Frac</th>\n",
       "      <th>Chronic_Osteoporasis_Frac</th>\n",
       "      <th>Chronic_rheumatoidarthritis_Frac</th>\n",
       "      <th>Chronic_stroke_Frac</th>\n",
       "      <th>Deceased_Frac</th>\n",
       "    </tr>\n",
       "    <tr>\n",
       "      <th>Provider</th>\n",
       "      <th></th>\n",
       "      <th></th>\n",
       "      <th></th>\n",
       "      <th></th>\n",
       "      <th></th>\n",
       "      <th></th>\n",
       "      <th></th>\n",
       "      <th></th>\n",
       "      <th></th>\n",
       "      <th></th>\n",
       "      <th></th>\n",
       "      <th></th>\n",
       "      <th></th>\n",
       "      <th></th>\n",
       "      <th></th>\n",
       "      <th></th>\n",
       "      <th></th>\n",
       "      <th></th>\n",
       "      <th></th>\n",
       "      <th></th>\n",
       "      <th></th>\n",
       "    </tr>\n",
       "  </thead>\n",
       "  <tbody>\n",
       "    <tr>\n",
       "      <th>PRV53960</th>\n",
       "      <td>2.452381</td>\n",
       "      <td>200.0</td>\n",
       "      <td>12.000000</td>\n",
       "      <td>12.000000</td>\n",
       "      <td>3279.214286</td>\n",
       "      <td>43330</td>\n",
       "      <td>1377270</td>\n",
       "      <td>902.166667</td>\n",
       "      <td>9180</td>\n",
       "      <td>378910</td>\n",
       "      <td>...</td>\n",
       "      <td>0.480952</td>\n",
       "      <td>0.085714</td>\n",
       "      <td>0.242857</td>\n",
       "      <td>0.426190</td>\n",
       "      <td>0.719048</td>\n",
       "      <td>0.773810</td>\n",
       "      <td>0.357143</td>\n",
       "      <td>0.316667</td>\n",
       "      <td>0.040476</td>\n",
       "      <td>0.016667</td>\n",
       "    </tr>\n",
       "    <tr>\n",
       "      <th>PRV52517</th>\n",
       "      <td>3.750000</td>\n",
       "      <td>70.0</td>\n",
       "      <td>11.625000</td>\n",
       "      <td>12.000000</td>\n",
       "      <td>2082.500000</td>\n",
       "      <td>6110</td>\n",
       "      <td>66640</td>\n",
       "      <td>537.500000</td>\n",
       "      <td>1530</td>\n",
       "      <td>17200</td>\n",
       "      <td>...</td>\n",
       "      <td>0.375000</td>\n",
       "      <td>0.187500</td>\n",
       "      <td>0.281250</td>\n",
       "      <td>0.343750</td>\n",
       "      <td>0.593750</td>\n",
       "      <td>0.781250</td>\n",
       "      <td>0.218750</td>\n",
       "      <td>0.625000</td>\n",
       "      <td>0.062500</td>\n",
       "      <td>0.000000</td>\n",
       "    </tr>\n",
       "    <tr>\n",
       "      <th>PRV55652</th>\n",
       "      <td>1.785714</td>\n",
       "      <td>50.0</td>\n",
       "      <td>12.000000</td>\n",
       "      <td>12.000000</td>\n",
       "      <td>1757.500000</td>\n",
       "      <td>9840</td>\n",
       "      <td>49210</td>\n",
       "      <td>500.357143</td>\n",
       "      <td>3110</td>\n",
       "      <td>14010</td>\n",
       "      <td>...</td>\n",
       "      <td>0.178571</td>\n",
       "      <td>0.107143</td>\n",
       "      <td>0.285714</td>\n",
       "      <td>0.535714</td>\n",
       "      <td>0.714286</td>\n",
       "      <td>0.785714</td>\n",
       "      <td>0.392857</td>\n",
       "      <td>0.321429</td>\n",
       "      <td>0.071429</td>\n",
       "      <td>0.000000</td>\n",
       "    </tr>\n",
       "    <tr>\n",
       "      <th>PRV57328</th>\n",
       "      <td>4.473684</td>\n",
       "      <td>70.0</td>\n",
       "      <td>12.000000</td>\n",
       "      <td>12.000000</td>\n",
       "      <td>1498.157895</td>\n",
       "      <td>7400</td>\n",
       "      <td>56930</td>\n",
       "      <td>465.789474</td>\n",
       "      <td>1550</td>\n",
       "      <td>17700</td>\n",
       "      <td>...</td>\n",
       "      <td>0.342105</td>\n",
       "      <td>0.105263</td>\n",
       "      <td>0.236842</td>\n",
       "      <td>0.394737</td>\n",
       "      <td>0.500000</td>\n",
       "      <td>0.631579</td>\n",
       "      <td>0.342105</td>\n",
       "      <td>0.263158</td>\n",
       "      <td>0.078947</td>\n",
       "      <td>0.052632</td>\n",
       "    </tr>\n",
       "    <tr>\n",
       "      <th>PRV56721</th>\n",
       "      <td>4.059406</td>\n",
       "      <td>100.0</td>\n",
       "      <td>11.915842</td>\n",
       "      <td>11.881188</td>\n",
       "      <td>2032.673267</td>\n",
       "      <td>24260</td>\n",
       "      <td>410600</td>\n",
       "      <td>599.900990</td>\n",
       "      <td>6300</td>\n",
       "      <td>121180</td>\n",
       "      <td>...</td>\n",
       "      <td>0.430693</td>\n",
       "      <td>0.158416</td>\n",
       "      <td>0.356436</td>\n",
       "      <td>0.485149</td>\n",
       "      <td>0.643564</td>\n",
       "      <td>0.722772</td>\n",
       "      <td>0.321782</td>\n",
       "      <td>0.232673</td>\n",
       "      <td>0.084158</td>\n",
       "      <td>0.000000</td>\n",
       "    </tr>\n",
       "  </tbody>\n",
       "</table>\n",
       "<p>5 rows × 54 columns</p>\n",
       "</div>"
      ],
      "text/plain": [
       "          DeductibleAmtPaid_mean  DeductibleAmtPaid_max  \\\n",
       "Provider                                                  \n",
       "PRV53960                2.452381                  200.0   \n",
       "PRV52517                3.750000                   70.0   \n",
       "PRV55652                1.785714                   50.0   \n",
       "PRV57328                4.473684                   70.0   \n",
       "PRV56721                4.059406                  100.0   \n",
       "\n",
       "          NoOfMonths_PartACov_mean  NoOfMonths_PartBCov_mean  \\\n",
       "Provider                                                       \n",
       "PRV53960                 12.000000                 12.000000   \n",
       "PRV52517                 11.625000                 12.000000   \n",
       "PRV55652                 12.000000                 12.000000   \n",
       "PRV57328                 12.000000                 12.000000   \n",
       "PRV56721                 11.915842                 11.881188   \n",
       "\n",
       "          OPAnnualReimbursementAmt_mean  OPAnnualReimbursementAmt_max  \\\n",
       "Provider                                                                \n",
       "PRV53960                    3279.214286                         43330   \n",
       "PRV52517                    2082.500000                          6110   \n",
       "PRV55652                    1757.500000                          9840   \n",
       "PRV57328                    1498.157895                          7400   \n",
       "PRV56721                    2032.673267                         24260   \n",
       "\n",
       "          OPAnnualReimbursementAmt_sum  OPAnnualDeductibleAmt_mean  \\\n",
       "Provider                                                             \n",
       "PRV53960                       1377270                  902.166667   \n",
       "PRV52517                         66640                  537.500000   \n",
       "PRV55652                         49210                  500.357143   \n",
       "PRV57328                         56930                  465.789474   \n",
       "PRV56721                        410600                  599.900990   \n",
       "\n",
       "          OPAnnualDeductibleAmt_max  OPAnnualDeductibleAmt_sum  ...  \\\n",
       "Provider                                                        ...   \n",
       "PRV53960                       9180                     378910  ...   \n",
       "PRV52517                       1530                      17200  ...   \n",
       "PRV55652                       3110                      14010  ...   \n",
       "PRV57328                       1550                      17700  ...   \n",
       "PRV56721                       6300                     121180  ...   \n",
       "\n",
       "          Chronic_KidneyDisease_Frac  Chronic_Cancer_Frac  \\\n",
       "Provider                                                    \n",
       "PRV53960                    0.480952             0.085714   \n",
       "PRV52517                    0.375000             0.187500   \n",
       "PRV55652                    0.178571             0.107143   \n",
       "PRV57328                    0.342105             0.105263   \n",
       "PRV56721                    0.430693             0.158416   \n",
       "\n",
       "          Chronic_ObstrPulmonary_Frac  Chronic_Depression_Frac  \\\n",
       "Provider                                                         \n",
       "PRV53960                     0.242857                 0.426190   \n",
       "PRV52517                     0.281250                 0.343750   \n",
       "PRV55652                     0.285714                 0.535714   \n",
       "PRV57328                     0.236842                 0.394737   \n",
       "PRV56721                     0.356436                 0.485149   \n",
       "\n",
       "          Chronic_Diabetes_Frac  Chronic_IschemicHeart_Frac  \\\n",
       "Provider                                                      \n",
       "PRV53960               0.719048                    0.773810   \n",
       "PRV52517               0.593750                    0.781250   \n",
       "PRV55652               0.714286                    0.785714   \n",
       "PRV57328               0.500000                    0.631579   \n",
       "PRV56721               0.643564                    0.722772   \n",
       "\n",
       "          Chronic_Osteoporasis_Frac  Chronic_rheumatoidarthritis_Frac  \\\n",
       "Provider                                                                \n",
       "PRV53960                   0.357143                          0.316667   \n",
       "PRV52517                   0.218750                          0.625000   \n",
       "PRV55652                   0.392857                          0.321429   \n",
       "PRV57328                   0.342105                          0.263158   \n",
       "PRV56721                   0.321782                          0.232673   \n",
       "\n",
       "          Chronic_stroke_Frac  Deceased_Frac  \n",
       "Provider                                      \n",
       "PRV53960             0.040476       0.016667  \n",
       "PRV52517             0.062500       0.000000  \n",
       "PRV55652             0.071429       0.000000  \n",
       "PRV57328             0.078947       0.052632  \n",
       "PRV56721             0.084158       0.000000  \n",
       "\n",
       "[5 rows x 54 columns]"
      ]
     },
     "execution_count": 4,
     "metadata": {},
     "output_type": "execute_result"
    }
   ],
   "source": [
    "X_train.head()"
   ]
  },
  {
   "cell_type": "code",
   "execution_count": 5,
   "id": "a5d40e20",
   "metadata": {},
   "outputs": [
    {
     "data": {
      "text/html": [
       "<div>\n",
       "<style scoped>\n",
       "    .dataframe tbody tr th:only-of-type {\n",
       "        vertical-align: middle;\n",
       "    }\n",
       "\n",
       "    .dataframe tbody tr th {\n",
       "        vertical-align: top;\n",
       "    }\n",
       "\n",
       "    .dataframe thead th {\n",
       "        text-align: right;\n",
       "    }\n",
       "</style>\n",
       "<table border=\"1\" class=\"dataframe\">\n",
       "  <thead>\n",
       "    <tr style=\"text-align: right;\">\n",
       "      <th></th>\n",
       "      <th>PotentialFraud</th>\n",
       "    </tr>\n",
       "  </thead>\n",
       "  <tbody>\n",
       "    <tr>\n",
       "      <th>0</th>\n",
       "      <td>0</td>\n",
       "    </tr>\n",
       "    <tr>\n",
       "      <th>1</th>\n",
       "      <td>0</td>\n",
       "    </tr>\n",
       "    <tr>\n",
       "      <th>2</th>\n",
       "      <td>0</td>\n",
       "    </tr>\n",
       "    <tr>\n",
       "      <th>3</th>\n",
       "      <td>0</td>\n",
       "    </tr>\n",
       "    <tr>\n",
       "      <th>4</th>\n",
       "      <td>0</td>\n",
       "    </tr>\n",
       "  </tbody>\n",
       "</table>\n",
       "</div>"
      ],
      "text/plain": [
       "   PotentialFraud\n",
       "0               0\n",
       "1               0\n",
       "2               0\n",
       "3               0\n",
       "4               0"
      ]
     },
     "execution_count": 5,
     "metadata": {},
     "output_type": "execute_result"
    }
   ],
   "source": [
    "y_train.head()"
   ]
  },
  {
   "cell_type": "code",
   "execution_count": 9,
   "id": "88acf147",
   "metadata": {},
   "outputs": [
    {
     "data": {
      "text/plain": [
       "(4328, 54)"
      ]
     },
     "execution_count": 9,
     "metadata": {},
     "output_type": "execute_result"
    }
   ],
   "source": [
    "X_train.shape"
   ]
  },
  {
   "cell_type": "code",
   "execution_count": 10,
   "id": "33cb6fee",
   "metadata": {},
   "outputs": [
    {
     "data": {
      "text/plain": [
       "(4328, 1)"
      ]
     },
     "execution_count": 10,
     "metadata": {},
     "output_type": "execute_result"
    }
   ],
   "source": [
    "y_train.shape"
   ]
  },
  {
   "cell_type": "code",
   "execution_count": 73,
   "id": "759a6f29",
   "metadata": {},
   "outputs": [
    {
     "data": {
      "text/plain": [
       "(1082, 1)"
      ]
     },
     "execution_count": 73,
     "metadata": {},
     "output_type": "execute_result"
    }
   ],
   "source": [
    "y_test.shape"
   ]
  },
  {
   "cell_type": "code",
   "execution_count": 6,
   "id": "bc59b5f7",
   "metadata": {},
   "outputs": [
    {
     "name": "stdout",
     "output_type": "stream",
     "text": [
      "<class 'pandas.core.frame.DataFrame'>\n",
      "Index: 4328 entries, PRV53960 to PRV52602\n",
      "Data columns (total 54 columns):\n",
      " #   Column                            Non-Null Count  Dtype  \n",
      "---  ------                            --------------  -----  \n",
      " 0   DeductibleAmtPaid_mean            4328 non-null   float64\n",
      " 1   DeductibleAmtPaid_max             4328 non-null   float64\n",
      " 2   NoOfMonths_PartACov_mean          4328 non-null   float64\n",
      " 3   NoOfMonths_PartBCov_mean          4328 non-null   float64\n",
      " 4   OPAnnualReimbursementAmt_mean     4328 non-null   float64\n",
      " 5   OPAnnualReimbursementAmt_max      4328 non-null   int64  \n",
      " 6   OPAnnualReimbursementAmt_sum      4328 non-null   int64  \n",
      " 7   OPAnnualDeductibleAmt_mean        4328 non-null   float64\n",
      " 8   OPAnnualDeductibleAmt_max         4328 non-null   int64  \n",
      " 9   OPAnnualDeductibleAmt_sum         4328 non-null   int64  \n",
      " 10  ClaimCounts                       4328 non-null   int64  \n",
      " 11  Gender                            4328 non-null   float64\n",
      " 12  ClaimPeriod                       4328 non-null   float64\n",
      " 13  RaceOneFrac                       4328 non-null   float64\n",
      " 14  MajorRace                         4328 non-null   int64  \n",
      " 15  RenalDiseaseIndicator             4328 non-null   float64\n",
      " 16  Age                               4328 non-null   float64\n",
      " 17  uniqBeneCount                     4328 non-null   int64  \n",
      " 18  ClmsperBene                       4328 non-null   float64\n",
      " 19  TotalInscClaimAmtReimbursed       4328 non-null   int64  \n",
      " 20  MeanInscClaimAmtReimbursed        4328 non-null   float64\n",
      " 21  MaxInscClaimAmtReimbursed         4328 non-null   int64  \n",
      " 22  uniqATPhysnCount                  4328 non-null   int64  \n",
      " 23  ClmsperATPhysn                    4328 non-null   float64\n",
      " 24  uniqOPPhysnCount                  4328 non-null   int64  \n",
      " 25  ClmsperOPPhysn                    4328 non-null   float64\n",
      " 26  uniqOTPhysnCount                  4328 non-null   int64  \n",
      " 27  ClmsperOTPhysn                    4328 non-null   float64\n",
      " 28  InClmsPct                         4328 non-null   float64\n",
      " 29  StateCount_Uniq                   4328 non-null   int64  \n",
      " 30  MajorState                        4328 non-null   int64  \n",
      " 31  CountyCount_Uniq                  4328 non-null   int64  \n",
      " 32  MajorCounty                       4328 non-null   int64  \n",
      " 33  TotalIPAnnualReimbursementAmt     4328 non-null   int64  \n",
      " 34  MeanIPAnnualReimbursementAmt      4328 non-null   float64\n",
      " 35  MaxIPAnnualReimbursementAmt       4328 non-null   int64  \n",
      " 36  TotalIPAnnualDeductibleAmtdf      4328 non-null   int64  \n",
      " 37  MeanIPAnnualDeductibleAmt         4328 non-null   float64\n",
      " 38  MaxIPAnnualDeductibleAmt          4328 non-null   int64  \n",
      " 39  MaxHospitalDays                   4328 non-null   float64\n",
      " 40  MedianHospitalDays                4328 non-null   float64\n",
      " 41  MeanHospitalDays                  4328 non-null   float64\n",
      " 42  Chronic_Alzheimer_Frac            4328 non-null   float64\n",
      " 43  Chronic_Heartfailure_Frac         4328 non-null   float64\n",
      " 44  Chronic_KidneyDisease_Frac        4328 non-null   float64\n",
      " 45  Chronic_Cancer_Frac               4328 non-null   float64\n",
      " 46  Chronic_ObstrPulmonary_Frac       4328 non-null   float64\n",
      " 47  Chronic_Depression_Frac           4328 non-null   float64\n",
      " 48  Chronic_Diabetes_Frac             4328 non-null   float64\n",
      " 49  Chronic_IschemicHeart_Frac        4328 non-null   float64\n",
      " 50  Chronic_Osteoporasis_Frac         4328 non-null   float64\n",
      " 51  Chronic_rheumatoidarthritis_Frac  4328 non-null   float64\n",
      " 52  Chronic_stroke_Frac               4328 non-null   float64\n",
      " 53  Deceased_Frac                     4328 non-null   float64\n",
      "dtypes: float64(34), int64(20)\n",
      "memory usage: 1.8+ MB\n"
     ]
    }
   ],
   "source": [
    "X_train.info()"
   ]
  },
  {
   "cell_type": "code",
   "execution_count": 12,
   "id": "e0a237a3",
   "metadata": {},
   "outputs": [
    {
     "name": "stdout",
     "output_type": "stream",
     "text": [
      "<class 'pandas.core.frame.DataFrame'>\n",
      "Index: 1082 entries, PRV53763 to PRV53544\n",
      "Data columns (total 54 columns):\n",
      " #   Column                            Non-Null Count  Dtype  \n",
      "---  ------                            --------------  -----  \n",
      " 0   DeductibleAmtPaid_mean            1081 non-null   float64\n",
      " 1   DeductibleAmtPaid_max             1081 non-null   float64\n",
      " 2   NoOfMonths_PartACov_mean          1082 non-null   float64\n",
      " 3   NoOfMonths_PartBCov_mean          1082 non-null   float64\n",
      " 4   OPAnnualReimbursementAmt_mean     1082 non-null   float64\n",
      " 5   OPAnnualReimbursementAmt_max      1082 non-null   int64  \n",
      " 6   OPAnnualReimbursementAmt_sum      1082 non-null   int64  \n",
      " 7   OPAnnualDeductibleAmt_mean        1082 non-null   float64\n",
      " 8   OPAnnualDeductibleAmt_max         1082 non-null   int64  \n",
      " 9   OPAnnualDeductibleAmt_sum         1082 non-null   int64  \n",
      " 10  ClaimCounts                       1082 non-null   int64  \n",
      " 11  Gender                            1082 non-null   float64\n",
      " 12  ClaimPeriod                       1082 non-null   float64\n",
      " 13  RaceOneFrac                       1082 non-null   float64\n",
      " 14  MajorRace                         1082 non-null   int64  \n",
      " 15  RenalDiseaseIndicator             1082 non-null   float64\n",
      " 16  Age                               1082 non-null   float64\n",
      " 17  uniqBeneCount                     1082 non-null   int64  \n",
      " 18  ClmsperBene                       1082 non-null   float64\n",
      " 19  TotalInscClaimAmtReimbursed       1082 non-null   int64  \n",
      " 20  MeanInscClaimAmtReimbursed        1082 non-null   float64\n",
      " 21  MaxInscClaimAmtReimbursed         1082 non-null   int64  \n",
      " 22  uniqATPhysnCount                  1082 non-null   int64  \n",
      " 23  ClmsperATPhysn                    1082 non-null   float64\n",
      " 24  uniqOPPhysnCount                  1082 non-null   int64  \n",
      " 25  ClmsperOPPhysn                    1082 non-null   float64\n",
      " 26  uniqOTPhysnCount                  1082 non-null   int64  \n",
      " 27  ClmsperOTPhysn                    1082 non-null   float64\n",
      " 28  InClmsPct                         1082 non-null   float64\n",
      " 29  StateCount_Uniq                   1082 non-null   int64  \n",
      " 30  MajorState                        1082 non-null   int64  \n",
      " 31  CountyCount_Uniq                  1082 non-null   int64  \n",
      " 32  MajorCounty                       1082 non-null   int64  \n",
      " 33  TotalIPAnnualReimbursementAmt     1082 non-null   int64  \n",
      " 34  MeanIPAnnualReimbursementAmt      1082 non-null   float64\n",
      " 35  MaxIPAnnualReimbursementAmt       1082 non-null   int64  \n",
      " 36  TotalIPAnnualDeductibleAmtdf      1082 non-null   int64  \n",
      " 37  MeanIPAnnualDeductibleAmt         1082 non-null   float64\n",
      " 38  MaxIPAnnualDeductibleAmt          1082 non-null   int64  \n",
      " 39  MaxHospitalDays                   1082 non-null   float64\n",
      " 40  MedianHospitalDays                1082 non-null   float64\n",
      " 41  MeanHospitalDays                  1082 non-null   float64\n",
      " 42  Chronic_Alzheimer_Frac            1082 non-null   float64\n",
      " 43  Chronic_Heartfailure_Frac         1082 non-null   float64\n",
      " 44  Chronic_KidneyDisease_Frac        1082 non-null   float64\n",
      " 45  Chronic_Cancer_Frac               1082 non-null   float64\n",
      " 46  Chronic_ObstrPulmonary_Frac       1082 non-null   float64\n",
      " 47  Chronic_Depression_Frac           1082 non-null   float64\n",
      " 48  Chronic_Diabetes_Frac             1082 non-null   float64\n",
      " 49  Chronic_IschemicHeart_Frac        1082 non-null   float64\n",
      " 50  Chronic_Osteoporasis_Frac         1082 non-null   float64\n",
      " 51  Chronic_rheumatoidarthritis_Frac  1082 non-null   float64\n",
      " 52  Chronic_stroke_Frac               1082 non-null   float64\n",
      " 53  Deceased_Frac                     1082 non-null   float64\n",
      "dtypes: float64(34), int64(20)\n",
      "memory usage: 464.9+ KB\n"
     ]
    }
   ],
   "source": [
    "X_test.info()"
   ]
  },
  {
   "cell_type": "code",
   "execution_count": 7,
   "id": "e76df58b",
   "metadata": {},
   "outputs": [],
   "source": [
    "# Train and test data\n",
    "from sklearn.pipeline import Pipeline\n",
    "from sklearn.linear_model import LogisticRegression\n",
    "from sklearn.preprocessing import MinMaxScaler\n",
    "from sklearn.preprocessing import StandardScaler"
   ]
  },
  {
   "cell_type": "markdown",
   "id": "561827db",
   "metadata": {},
   "source": [
    "Notes: \n",
    "from sklearn.model_selection import train_test_split\n",
    "X_train, X_test, y_train, y_test = train_test_split(X,y, test_size = 0.20, random_state = 99)\n",
    "from sklearn.linear_model import LogisticRegression\n",
    "model = LogisticRegression()\n",
    "model.fit(X_train, y_train)\n",
    "model.score(X_test,y_test)"
   ]
  },
  {
   "cell_type": "code",
   "execution_count": 8,
   "id": "ebf057d2",
   "metadata": {},
   "outputs": [],
   "source": [
    "# use MinMaxScaler and LogisticRegression to build a classification pipeline.\n",
    "steps = [# ('rescale', MinMaxScaler()),\n",
    "         ('logr', LogisticRegression())]\n",
    "model = Pipeline(steps)\n",
    "model = model.fit(X_train, y_train)"
   ]
  },
  {
   "cell_type": "code",
   "execution_count": 13,
   "id": "95c356fb",
   "metadata": {},
   "outputs": [],
   "source": [
    "# predacting\n",
    "# Use the predict function of the model to make predictions for the training set and test set,\n",
    "# and assign the outputs to y_train_pred and y_test_pred, respectively.\n",
    "\n",
    "y_train_pred = model.predict(X_train)\n"
   ]
  },
  {
   "cell_type": "code",
   "execution_count": 15,
   "id": "40edd64d",
   "metadata": {},
   "outputs": [],
   "source": [
    "# fill NA as 0, X_test has null values\n",
    "X_test.fillna(0,inplace=True)\n",
    "y_test_pred = model.predict(X_test)"
   ]
  },
  {
   "cell_type": "code",
   "execution_count": 17,
   "id": "58aebd5f",
   "metadata": {},
   "outputs": [],
   "source": [
    "from sklearn.metrics import accuracy_score,precision_score,recall_score, f1_score\n",
    "from sklearn.metrics import classification_report\n",
    "from sklearn.metrics import confusion_matrix"
   ]
  },
  {
   "cell_type": "markdown",
   "id": "a63442f9",
   "metadata": {},
   "source": [
    "#### Calculate the training and testing accuracy scores."
   ]
  },
  {
   "cell_type": "code",
   "execution_count": 18,
   "id": "c3bde519",
   "metadata": {},
   "outputs": [
    {
     "name": "stdout",
     "output_type": "stream",
     "text": [
      "Training Accuracy Score: 0.939\n",
      "Testinging Accuracy Score: 0.938\n"
     ]
    }
   ],
   "source": [
    "print('Training Accuracy Score: {0:.3f}'.format(accuracy_score(y_train, y_train_pred)))\n",
    "print('Testinging Accuracy Score: {0:.3f}'.format(accuracy_score(y_test, y_test_pred)))"
   ]
  },
  {
   "cell_type": "markdown",
   "id": "c603e82f",
   "metadata": {},
   "source": [
    "#### Calculate the precision, recall, and f1 scores. You can use classification report."
   ]
  },
  {
   "cell_type": "code",
   "execution_count": 19,
   "id": "cfdb90db",
   "metadata": {},
   "outputs": [
    {
     "name": "stdout",
     "output_type": "stream",
     "text": [
      "              precision    recall  f1-score   support\n",
      "\n",
      "           0       0.95      0.98      0.97      3925\n",
      "           1       0.74      0.52      0.61       403\n",
      "\n",
      "    accuracy                           0.94      4328\n",
      "   macro avg       0.85      0.75      0.79      4328\n",
      "weighted avg       0.93      0.94      0.93      4328\n",
      "\n",
      "              precision    recall  f1-score   support\n",
      "\n",
      "           0       0.95      0.98      0.97       979\n",
      "           1       0.75      0.52      0.62       103\n",
      "\n",
      "    accuracy                           0.94      1082\n",
      "   macro avg       0.85      0.75      0.79      1082\n",
      "weighted avg       0.93      0.94      0.93      1082\n",
      "\n"
     ]
    }
   ],
   "source": [
    "print(classification_report(y_train, y_train_pred))\n",
    "print(classification_report(y_test, y_test_pred))"
   ]
  },
  {
   "cell_type": "markdown",
   "id": "ecbf4f66",
   "metadata": {},
   "source": [
    "#### Get the confusion matrix"
   ]
  },
  {
   "cell_type": "code",
   "execution_count": 20,
   "id": "4422aa35",
   "metadata": {},
   "outputs": [
    {
     "name": "stdout",
     "output_type": "stream",
     "text": [
      "[[3852   73]\n",
      " [ 193  210]]\n",
      "-------------\n",
      "[[961  18]\n",
      " [ 49  54]]\n"
     ]
    }
   ],
   "source": [
    "print(confusion_matrix(y_train, y_train_pred))\n",
    "print(\"-------------\")\n",
    "print(confusion_matrix(y_test, y_test_pred))"
   ]
  },
  {
   "cell_type": "code",
   "execution_count": null,
   "id": "9a988476",
   "metadata": {},
   "outputs": [],
   "source": [
    "\n"
   ]
  },
  {
   "cell_type": "markdown",
   "id": "1a7dc016",
   "metadata": {},
   "source": [
    "### Feature Importance"
   ]
  },
  {
   "cell_type": "code",
   "execution_count": 74,
   "id": "506f1d44",
   "metadata": {},
   "outputs": [
    {
     "name": "stdout",
     "output_type": "stream",
     "text": [
      "Feature: 0, Score: -0.02669\n",
      "Feature: 1, Score: -0.05665\n",
      "Feature: 2, Score: 0.01445\n",
      "Feature: 3, Score: -0.11017\n",
      "Feature: 4, Score: 0.05524\n",
      "Feature: 5, Score: -0.02704\n",
      "Feature: 6, Score: -0.03860\n",
      "Feature: 7, Score: -0.02802\n",
      "Feature: 8, Score: -0.06474\n",
      "Feature: 9, Score: 0.01065\n",
      "Feature: 10, Score: -0.06389\n",
      "Feature: 11, Score: -0.01373\n",
      "Feature: 12, Score: -0.11990\n",
      "Feature: 13, Score: -0.00184\n",
      "Feature: 14, Score: -0.11663\n",
      "Feature: 15, Score: 0.01227\n",
      "Feature: 16, Score: 0.12011\n",
      "Feature: 17, Score: -0.02852\n",
      "Feature: 18, Score: 0.34203\n",
      "Feature: 19, Score: -0.22861\n",
      "Feature: 20, Score: -0.08473\n",
      "Feature: 21, Score: 2.56137\n",
      "Feature: 22, Score: 1.53903\n",
      "Feature: 23, Score: 0.07502\n",
      "Feature: 24, Score: -0.03451\n",
      "Feature: 25, Score: 0.11648\n",
      "Feature: 26, Score: -0.03344\n",
      "Feature: 27, Score: -0.00828\n",
      "Feature: 28, Score: -0.08341\n",
      "Feature: 29, Score: 0.08564\n",
      "Feature: 30, Score: -0.08871\n",
      "Feature: 31, Score: 0.08633\n",
      "Feature: 32, Score: -0.00857\n",
      "Feature: 33, Score: 0.03609\n",
      "Feature: 34, Score: -0.00841\n",
      "Feature: 35, Score: -0.04798\n",
      "Feature: 36, Score: 0.09151\n",
      "Feature: 37, Score: 0.11128\n",
      "Feature: 38, Score: 0.00297\n",
      "Feature: 39, Score: -0.05619\n",
      "Feature: 40, Score: 0.03128\n",
      "Feature: 41, Score: 0.04536\n",
      "Feature: 42, Score: 0.00158\n",
      "Feature: 43, Score: -0.08428\n",
      "Feature: 44, Score: 0.08879\n",
      "Feature: 45, Score: -0.36788\n",
      "Feature: 46, Score: -0.07719\n",
      "Feature: 47, Score: 0.02197\n",
      "Feature: 48, Score: 3.14710\n",
      "Feature: 49, Score: -0.08643\n",
      "Feature: 50, Score: 0.13734\n",
      "Feature: 51, Score: -0.09233\n",
      "Feature: 52, Score: 0.06192\n",
      "Feature: 53, Score: 0.00160\n"
     ]
    },
    {
     "data": {
      "image/png": "[encoded data removed]",
      "text/plain": [
       "<Figure size 432x288 with 1 Axes>"
      ]
     },
     "metadata": {
      "needs_background": "light"
     },
     "output_type": "display_data"
    }
   ],
   "source": [
    "# Note: https://pythonguides.com/scikit-learn-logistic-regression/\n",
    "\n",
    "from sklearn.datasets import make_classification\n",
    "from sklearn.linear_model import LogisticRegression\n",
    "from matplotlib import pyplot\n",
    "\n",
    "X_train, y_train = make_classification(n_samples=5410, n_features=54,  random_state=1)\n",
    "\n",
    "model_feature = LogisticRegression()\n",
    "\n",
    "model_feature = model_feature.fit(X_train, y_train)\n",
    "importance = model_feature.coef_[0]\n",
    "\n",
    "for i,j in enumerate(importance):\n",
    "\tprint('Feature: %0d, Score: %.5f' % (i,j))\n",
    "\n",
    "pyplot.bar([X for X in range(len(importance))], importance)\n",
    "pyplot.show()\n",
    "\n"
   ]
  },
  {
   "cell_type": "code",
   "execution_count": 80,
   "id": "b35b3294",
   "metadata": {},
   "outputs": [
    {
     "name": "stdout",
     "output_type": "stream",
     "text": [
      "Feature: 0, Score: 0.00474\n",
      "Feature: 1, Score: 0.06157\n",
      "Feature: 2, Score: -0.00190\n",
      "Feature: 3, Score: -0.01951\n",
      "Feature: 4, Score: 0.04215\n",
      "Feature: 5, Score: 0.04054\n",
      "Feature: 6, Score: -0.01630\n",
      "Feature: 7, Score: -0.03327\n",
      "Feature: 8, Score: -0.01874\n",
      "Feature: 9, Score: -0.27470\n",
      "Feature: 10, Score: 0.00661\n",
      "Feature: 11, Score: 0.02754\n",
      "Feature: 12, Score: 0.03576\n",
      "Feature: 13, Score: -0.03797\n",
      "Feature: 14, Score: -0.06009\n",
      "Feature: 15, Score: 0.04281\n",
      "Feature: 16, Score: -0.00375\n",
      "Feature: 17, Score: -0.00043\n",
      "Feature: 18, Score: 0.00513\n",
      "Feature: 19, Score: 0.03315\n",
      "Feature: 20, Score: -0.04054\n",
      "Feature: 21, Score: 0.01299\n",
      "Feature: 22, Score: 0.05824\n",
      "Feature: 23, Score: -0.00438\n",
      "Feature: 24, Score: -0.03922\n",
      "Feature: 25, Score: -0.25678\n",
      "Feature: 26, Score: 0.03513\n",
      "Feature: 27, Score: 0.02228\n",
      "Feature: 28, Score: -0.01584\n",
      "Feature: 29, Score: -0.04460\n",
      "Feature: 30, Score: -0.05858\n",
      "Feature: 31, Score: 0.00389\n",
      "Feature: 32, Score: 0.08475\n",
      "Feature: 33, Score: -0.02623\n",
      "Feature: 34, Score: -0.17915\n",
      "Feature: 35, Score: -0.04706\n",
      "Feature: 36, Score: -0.04280\n",
      "Feature: 37, Score: -0.03660\n",
      "Feature: 38, Score: -0.00712\n",
      "Feature: 39, Score: -0.04124\n",
      "Feature: 40, Score: -0.01539\n",
      "Feature: 41, Score: -0.02731\n",
      "Feature: 42, Score: -0.01677\n",
      "Feature: 43, Score: 0.00223\n",
      "Feature: 44, Score: 0.31040\n",
      "Feature: 45, Score: 0.03738\n",
      "Feature: 46, Score: -0.01797\n",
      "Feature: 47, Score: 0.05828\n",
      "Feature: 48, Score: 0.15308\n",
      "Feature: 49, Score: 0.00172\n",
      "Feature: 50, Score: 0.17595\n",
      "Feature: 51, Score: 0.22146\n",
      "Feature: 52, Score: -0.07097\n",
      "Feature: 53, Score: 0.04474\n"
     ]
    },
    {
     "data": {
      "image/png": "[encoded data removed]",
      "text/plain": [
       "<Figure size 432x288 with 1 Axes>"
      ]
     },
     "metadata": {
      "needs_background": "light"
     },
     "output_type": "display_data"
    }
   ],
   "source": [
    "# ADD n_informative=5, n_redundant=5,\n",
    "\n",
    "X_train1, y_train1 = make_classification(n_samples=5410, n_features=54, n_informative=5, n_redundant=5, random_state=1)\n",
    "\n",
    "model_feature1 = LogisticRegression()\n",
    "\n",
    "model_feature1= model_feature1.fit(X_train1, y_train1)\n",
    "importance = model_feature1.coef_[0]\n",
    "\n",
    "for i,j in enumerate(importance):\n",
    "\tprint('Feature: %0d, Score: %.5f' % (i,j))\n",
    "\n",
    "\n",
    "pyplot.bar([X for X in range(len(importance))], importance)\n",
    "pyplot.show()\n",
    "\n",
    "\n",
    "# Feature: 1, Score: -0.05591\n",
    "# Feature: 3, Score: 0.13607\n",
    "# Feature: 5, Score: -0.28413\n",
    "# Feature: 7, Score: 0.39096\n",
    "        "
   ]
  },
  {
   "cell_type": "code",
   "execution_count": 61,
   "id": "77e6162c",
   "metadata": {},
   "outputs": [],
   "source": [
    "# import math"
   ]
  },
  {
   "cell_type": "code",
   "execution_count": 64,
   "id": "c360e420",
   "metadata": {},
   "outputs": [
    {
     "data": {
      "text/plain": [
       "'feature_importance = pd.DataFrame(feature_names, columns = [\"feature\"])\\nfeature_importance[\"importance\"] = pow(math.e, w)\\nfeature_importance = feature_importance.sort_values(by = [\"importance\"], ascending=False)\\n \\nfrom sklearn.linear_model import LogisticRegression\\nax = feature_importance.plot.barh(x=\\'feature\\', y=\\'importance\\')\\nplt.show() '"
      ]
     },
     "execution_count": 64,
     "metadata": {},
     "output_type": "execute_result"
    }
   ],
   "source": [
    "# feature_names = list(X_train.columns)\n",
    "\"\"\"feature_importance = pd.DataFrame(feature_names, columns = [\"feature\"])\n",
    "feature_importance[\"importance\"] = pow(math.e, w)\n",
    "feature_importance = feature_importance.sort_values(by = [\"importance\"], ascending=False)\n",
    " \n",
    "from sklearn.linear_model import LogisticRegression\n",
    "ax = feature_importance.plot.barh(x='feature', y='importance')\n",
    "plt.show() \"\"\""
   ]
  },
  {
   "cell_type": "code",
   "execution_count": null,
   "id": "dbf71dc7",
   "metadata": {},
   "outputs": [],
   "source": []
  },
  {
   "cell_type": "code",
   "execution_count": null,
   "id": "eaf63882",
   "metadata": {},
   "outputs": [],
   "source": []
  },
  {
   "cell_type": "markdown",
   "id": "b18f04de",
   "metadata": {},
   "source": [
    "### II. Prediction with balanced class weights: may not need this part, because our data is balanced?"
   ]
  },
  {
   "cell_type": "markdown",
   "id": "d7ed0057",
   "metadata": {},
   "source": [
    "##### 2.1 Set class_weight in Logistic Regression and retrain the model."
   ]
  },
  {
   "cell_type": "code",
   "execution_count": 29,
   "id": "842e9c22",
   "metadata": {},
   "outputs": [],
   "source": [
    "steps = [#('rescale', MinMaxScaler()),\n",
    "         ('logr', LogisticRegression(class_weight = 'balanced'))]\n",
    "model_balanced = Pipeline(steps)\n",
    "model_balanced = model.fit(X_train, y_train)"
   ]
  },
  {
   "cell_type": "code",
   "execution_count": 31,
   "id": "2e202c8c",
   "metadata": {},
   "outputs": [],
   "source": [
    "y_train_pred_balanced = model_balanced.predict(X_train)\n",
    "y_test_pred_balanced = model_balanced.predict(X_test)"
   ]
  },
  {
   "cell_type": "markdown",
   "id": "863bb877",
   "metadata": {},
   "source": [
    "##### Re-calcualte all the above metrics and confusion matrix."
   ]
  },
  {
   "cell_type": "code",
   "execution_count": 32,
   "id": "cdc4da8f",
   "metadata": {},
   "outputs": [
    {
     "name": "stdout",
     "output_type": "stream",
     "text": [
      "Training Accuracy Score: 0.939\n",
      "Testinging Accuracy Score: 0.938\n"
     ]
    }
   ],
   "source": [
    "# training/testing Accuracy scores\n",
    "print('Training Accuracy Score: {0:.3f}'.format(accuracy_score(y_train, y_train_pred_balanced)))\n",
    "print('Testinging Accuracy Score: {0:.3f}'.format(accuracy_score(y_test, y_test_pred_balanced)))\n",
    "\n",
    "# notes: same as non-balanced model, because our data are balanced?"
   ]
  },
  {
   "cell_type": "code",
   "execution_count": 33,
   "id": "e8add1db",
   "metadata": {},
   "outputs": [
    {
     "name": "stdout",
     "output_type": "stream",
     "text": [
      "              precision    recall  f1-score   support\n",
      "\n",
      "           0       0.95      0.98      0.97      3925\n",
      "           1       0.74      0.52      0.61       403\n",
      "\n",
      "    accuracy                           0.94      4328\n",
      "   macro avg       0.85      0.75      0.79      4328\n",
      "weighted avg       0.93      0.94      0.93      4328\n",
      "\n",
      "              precision    recall  f1-score   support\n",
      "\n",
      "           0       0.95      0.98      0.97       979\n",
      "           1       0.75      0.52      0.62       103\n",
      "\n",
      "    accuracy                           0.94      1082\n",
      "   macro avg       0.85      0.75      0.79      1082\n",
      "weighted avg       0.93      0.94      0.93      1082\n",
      "\n"
     ]
    }
   ],
   "source": [
    "print(classification_report(y_train, y_train_pred_balanced))\n",
    "print(classification_report(y_test, y_test_pred_balanced))\n",
    "\n",
    "# notes: same as non-balanced model"
   ]
  },
  {
   "cell_type": "code",
   "execution_count": 34,
   "id": "144c27d6",
   "metadata": {},
   "outputs": [
    {
     "name": "stdout",
     "output_type": "stream",
     "text": [
      "[[3852   73]\n",
      " [ 193  210]]\n",
      "-------------\n",
      "[[961  18]\n",
      " [ 49  54]]\n"
     ]
    }
   ],
   "source": [
    "print(confusion_matrix(y_train, y_train_pred_balanced))\n",
    "print(\"-------------\")\n",
    "print(confusion_matrix(y_test, y_test_pred_balanced))"
   ]
  },
  {
   "cell_type": "markdown",
   "id": "ec29ba76",
   "metadata": {},
   "source": [
    "### III. Use the predict_proba function of the model to make predictions for the training and testing sets"
   ]
  },
  {
   "cell_type": "code",
   "execution_count": null,
   "id": "fe6a42ae",
   "metadata": {},
   "outputs": [],
   "source": [
    "steps = [#('rescale', MinMaxScaler()),\n",
    "         ('logr', LogisticRegression(class_weight = 'balanced'))]\n",
    "model_balanced = Pipeline(steps)\n",
    "model_balanced = model.fit(X_train, y_train)\n",
    "y_train_pred_balanced = model_balanced.predict(X_train)\n",
    "y_test_pred_balanced = model_balanced.predict(X_test)"
   ]
  },
  {
   "cell_type": "code",
   "execution_count": 37,
   "id": "4f4cf143",
   "metadata": {},
   "outputs": [],
   "source": [
    "y_train_proba = model_balanced.predict_proba(X_train)\n",
    "y_test_proba = model_balanced.predict_proba(X_test)"
   ]
  },
  {
   "cell_type": "code",
   "execution_count": 41,
   "id": "49690786",
   "metadata": {},
   "outputs": [
    {
     "data": {
      "text/plain": [
       "(4328, 2)"
      ]
     },
     "execution_count": 41,
     "metadata": {},
     "output_type": "execute_result"
    }
   ],
   "source": [
    "y_train_proba.shape"
   ]
  },
  {
   "cell_type": "code",
   "execution_count": 42,
   "id": "6afa49bd",
   "metadata": {},
   "outputs": [
    {
     "data": {
      "text/plain": [
       "(1082, 2)"
      ]
     },
     "execution_count": 42,
     "metadata": {},
     "output_type": "execute_result"
    }
   ],
   "source": [
    "y_test_proba.shape"
   ]
  },
  {
   "cell_type": "code",
   "execution_count": 44,
   "id": "3d1995f8",
   "metadata": {},
   "outputs": [
    {
     "data": {
      "text/plain": [
       "array([[0.39504299, 0.60495701],\n",
       "       [0.98357082, 0.01642918],\n",
       "       [0.97210135, 0.02789865],\n",
       "       ...,\n",
       "       [0.97663677, 0.02336323],\n",
       "       [0.98827317, 0.01172683],\n",
       "       [0.9957318 , 0.0042682 ]])"
      ]
     },
     "execution_count": 44,
     "metadata": {},
     "output_type": "execute_result"
    }
   ],
   "source": [
    "y_test_proba\n",
    "\n",
    "# The output from predict is the values of 0 or 1 while the output of predict_prob has two columns: the first column is the probability of predicting 0, the second column is the probability of predicting 1.\n",
    "# In this case, we should care about the second column, probability of 1."
   ]
  },
  {
   "cell_type": "code",
   "execution_count": 45,
   "id": "d0cd9874",
   "metadata": {},
   "outputs": [
    {
     "name": "stdout",
     "output_type": "stream",
     "text": [
      "The range of y_train_proba is: ( 0.0005780947911384222 , 0.9999978560184316 )\n",
      "The range of y_train_proba is: ( 0.0006929044900078012 , 0.9992108107469493 )\n"
     ]
    }
   ],
   "source": [
    "# What is the range of the values in y_train_proba and y_test_proba? What do the values mean?\n",
    "print('The range of y_train_proba is: (', np.min(y_train_proba[:,1]), ',', np.max(y_train_proba[:,1]), ')')\n",
    "print('The range of y_train_proba is: (', np.min(y_test_proba[:,1]), ',', np.max(y_test_proba[:,1]), ')')"
   ]
  },
  {
   "cell_type": "markdown",
   "id": "d6d2291c",
   "metadata": {},
   "source": [
    "#### 3.2 Threshold"
   ]
  },
  {
   "cell_type": "code",
   "execution_count": null,
   "id": "7ca68ae5",
   "metadata": {},
   "outputs": [],
   "source": [
    "# Change the threshold value applied in the transformation from y_test_proba to y_test_pred, \n",
    "# and visualize how the threshold value changes precision, recall, and f1 score."
   ]
  },
  {
   "cell_type": "code",
   "execution_count": 46,
   "id": "9d3aeef7",
   "metadata": {},
   "outputs": [
    {
     "data": {
      "text/plain": [
       "<matplotlib.legend.Legend at 0x7f95a4ae78b0>"
      ]
     },
     "execution_count": 46,
     "metadata": {},
     "output_type": "execute_result"
    },
    {
     "data": {
      "image/png": "[encoded data removed]",
      "text/plain": [
       "<Figure size 432x288 with 1 Axes>"
      ]
     },
     "metadata": {
      "needs_background": "light"
     },
     "output_type": "display_data"
    }
   ],
   "source": [
    "# Plot metrics scores v.s. threshold - Linda\n",
    "\n",
    "thresholds = np.linspace(0, 1, 10)\n",
    "precisions = []\n",
    "recalls = []\n",
    "f1s = []\n",
    "ave = \"binary\"\n",
    "\n",
    "for cut in thresholds:\n",
    "    y_test_pred_new = (y_test_proba[:, 1] > cut).astype(int)\n",
    "    precisions.append(precision_score(y_test, y_test_pred_new, average=ave))\n",
    "    recalls.append(recall_score(y_test, y_test_pred_new, average=ave))\n",
    "    f1s.append(f1_score(y_test, y_test_pred_new, average=ave))\n",
    "\n",
    "plt.plot(thresholds, precisions, color=\"red\", label=\"precision\")\n",
    "plt.plot(thresholds, recalls, color=\"blue\", label=\"recall\")\n",
    "plt.plot(thresholds, f1s, color=\"black\", label=\"f1\")\n",
    "plt.xlabel(\"Threshold\")\n",
    "plt.ylabel(\"Score\")\n",
    "plt.legend(loc=\"best\")"
   ]
  },
  {
   "cell_type": "code",
   "execution_count": 47,
   "id": "e20bfcbf",
   "metadata": {},
   "outputs": [
    {
     "data": {
      "text/plain": [
       "Text(0.5, 1.0, 'Precision, Recall, and f1 Score versus Threshold')"
      ]
     },
     "execution_count": 47,
     "metadata": {},
     "output_type": "execute_result"
    },
    {
     "data": {
      "image/png": "[encoded data removed]",
      "text/plain": [
       "<Figure size 432x288 with 1 Axes>"
      ]
     },
     "metadata": {
      "needs_background": "light"
     },
     "output_type": "display_data"
    }
   ],
   "source": [
    "# Cuicui\n",
    "thresholds = np.arange(0, 1.0, 0.01)\n",
    "precision_lst=[]\n",
    "recall_lst=[]\n",
    "f1_lst = []\n",
    "for i in thresholds:\n",
    "    y_test_prednew1= (y_test_proba[:, 1]>= i).astype(int)\n",
    "    precision_lst.append(precision_score(y_test, y_test_prednew1))\n",
    "    recall_lst.append(recall_score(y_test, y_test_prednew1))\n",
    "    f1_lst.append(f1_score(y_test, y_test_prednew1))\n",
    "plt.title(\"Precision-Recall vs Threshold Chart\")\n",
    "plt.plot(thresholds, precision_lst, \"g-\", label=\"Precision\")\n",
    "plt.plot(thresholds, recall_lst, \"b-\", label=\"Recall\")\n",
    "plt.plot(thresholds, f1_lst, \"r-\", label=\"f1\")\n",
    "plt.ylabel(\"Precision, Recall, f1\")\n",
    "plt.xlabel(\"Threshold\")\n",
    "plt.legend(loc=\"lower left\")\n",
    "plt.title('Precision, Recall, and f1 Score versus Threshold')"
   ]
  },
  {
   "cell_type": "markdown",
   "id": "534f35c5",
   "metadata": {},
   "source": [
    "#### 3.3 ROC AUC"
   ]
  },
  {
   "cell_type": "markdown",
   "id": "85f1bd6d",
   "metadata": {},
   "source": [
    "##### Calculate the train and test roc_auc_scores."
   ]
  },
  {
   "cell_type": "code",
   "execution_count": 48,
   "id": "9465e3e4",
   "metadata": {},
   "outputs": [
    {
     "data": {
      "text/plain": [
       "0.9482922665992318"
      ]
     },
     "execution_count": 48,
     "metadata": {},
     "output_type": "execute_result"
    }
   ],
   "source": [
    "from sklearn.metrics import roc_auc_score\n",
    "\n",
    "roc_auc_score(y_train, y_train_proba[:, 1])"
   ]
  },
  {
   "cell_type": "code",
   "execution_count": 49,
   "id": "e5f49f94",
   "metadata": {},
   "outputs": [
    {
     "data": {
      "text/plain": [
       "0.9462895564128248"
      ]
     },
     "execution_count": 49,
     "metadata": {},
     "output_type": "execute_result"
    }
   ],
   "source": [
    "roc_auc_score(y_test, y_test_proba[:, 1])"
   ]
  },
  {
   "cell_type": "markdown",
   "id": "20c1411e",
   "metadata": {},
   "source": [
    "#### Plot the ROC curve of test scores, use the roc_curve module in sklearn to obtain relevant data."
   ]
  },
  {
   "cell_type": "code",
   "execution_count": 50,
   "id": "ef27bf1b",
   "metadata": {},
   "outputs": [],
   "source": [
    "from sklearn import metrics\n",
    "\n",
    "fpr, tpr, threshold = metrics.roc_curve(y_test, y_test_proba[:, 1])"
   ]
  },
  {
   "cell_type": "code",
   "execution_count": 53,
   "id": "902eb46a",
   "metadata": {},
   "outputs": [
    {
     "data": {
      "text/plain": [
       "Text(0, 0.5, 'true positive rate')"
      ]
     },
     "execution_count": 53,
     "metadata": {},
     "output_type": "execute_result"
    },
    {
     "data": {
      "image/png": "[encoded data removed]",
      "text/plain": [
       "<Figure size 432x288 with 1 Axes>"
      ]
     },
     "metadata": {
      "needs_background": "light"
     },
     "output_type": "display_data"
    }
   ],
   "source": [
    "plt.plot(fpr,tpr)\n",
    "plt.xlabel('false positive rate')\n",
    "plt.ylabel('true positive rate')\n",
    "# The x axes is the false positive rate (recall or sensitivity) and the y axes is the true positive rate."
   ]
  },
  {
   "cell_type": "markdown",
   "id": "a77a96eb",
   "metadata": {},
   "source": [
    "#### 3.4 Log Loss"
   ]
  },
  {
   "cell_type": "markdown",
   "id": "ff724047",
   "metadata": {},
   "source": [
    "##### Calculate the train and test log loss."
   ]
  },
  {
   "cell_type": "code",
   "execution_count": 54,
   "id": "2d96290f",
   "metadata": {},
   "outputs": [
    {
     "data": {
      "text/plain": [
       "0.15151099448878477"
      ]
     },
     "execution_count": 54,
     "metadata": {},
     "output_type": "execute_result"
    }
   ],
   "source": [
    "from sklearn.metrics import log_loss\n",
    "log_loss(y_train, y_train_proba)"
   ]
  },
  {
   "cell_type": "code",
   "execution_count": 55,
   "id": "f9a12950",
   "metadata": {},
   "outputs": [
    {
     "data": {
      "text/plain": [
       "0.1561183374796667"
      ]
     },
     "execution_count": 55,
     "metadata": {},
     "output_type": "execute_result"
    }
   ],
   "source": [
    "log_loss(y_test, y_test_proba)"
   ]
  },
  {
   "cell_type": "code",
   "execution_count": null,
   "id": "eecb137f",
   "metadata": {},
   "outputs": [],
   "source": []
  },
  {
   "cell_type": "code",
   "execution_count": null,
   "id": "008cf46b",
   "metadata": {},
   "outputs": [],
   "source": []
  }
 ],
 "metadata": {
  "kernelspec": {
   "display_name": "Python 3 (ipykernel)",
   "language": "python",
   "name": "python3"
  },
  "language_info": {
   "codemirror_mode": {
    "name": "ipython",
    "version": 3
   },
   "file_extension": ".py",
   "mimetype": "text/x-python",
   "name": "python",
   "nbconvert_exporter": "python",
   "pygments_lexer": "ipython3",
   "version": "3.9.7"
  }
 },
 "nbformat": 4,
 "nbformat_minor": 5
}
